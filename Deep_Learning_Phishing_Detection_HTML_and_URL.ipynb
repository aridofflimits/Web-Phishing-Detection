{
  "cells": [
    {
      "cell_type": "markdown",
      "source": [
        "#**Web Phishing Detection Using Deep Learning**"
      ],
      "metadata": {
        "id": "RSBfC3rEZGtt"
      }
    },
    {
      "cell_type": "markdown",
      "source": [
        "Advanced phishing detection project employing deep learning techniques on the 'look-before-you-leap' dataset, aiming at accurate identification of phishing threats through comprehensive raw URL and HTML content analysis."
      ],
      "metadata": {
        "id": "tnBO-fD1ZjKq"
      }
    },
    {
      "cell_type": "markdown",
      "source": [
        "**ALL CODES BY RAMADHIRRA. DO NOT USE OR COPY WITHOUT PERMISSION.**"
      ],
      "metadata": {
        "id": "3ZIdhTROZNI1"
      }
    },
    {
      "cell_type": "markdown",
      "source": [
        "\n",
        "\n",
        "---\n",
        "\n"
      ],
      "metadata": {
        "id": "9Hqxw64kZVii"
      }
    },
    {
      "cell_type": "markdown",
      "metadata": {
        "id": "VvBif42QYR2u"
      },
      "source": [
        "# Install Dependencies"
      ]
    },
    {
      "cell_type": "code",
      "execution_count": null,
      "metadata": {
        "colab": {
          "base_uri": "https://localhost:8080/"
        },
        "id": "wynPwxhEUdqX",
        "outputId": "39086c9a-db2f-44a2-d3cb-bad0a3bca700"
      },
      "outputs": [
        {
          "output_type": "stream",
          "name": "stdout",
          "text": [
            "Requirement already satisfied: nltk in /usr/local/lib/python3.10/dist-packages (3.8.1)\n",
            "Requirement already satisfied: click in /usr/local/lib/python3.10/dist-packages (from nltk) (8.1.7)\n",
            "Requirement already satisfied: joblib in /usr/local/lib/python3.10/dist-packages (from nltk) (1.3.2)\n",
            "Requirement already satisfied: regex>=2021.8.3 in /usr/local/lib/python3.10/dist-packages (from nltk) (2023.12.25)\n",
            "Requirement already satisfied: tqdm in /usr/local/lib/python3.10/dist-packages (from nltk) (4.66.1)\n",
            "Requirement already satisfied: scikit-learn in /usr/local/lib/python3.10/dist-packages (1.2.2)\n",
            "Requirement already satisfied: numpy>=1.17.3 in /usr/local/lib/python3.10/dist-packages (from scikit-learn) (1.23.5)\n",
            "Requirement already satisfied: scipy>=1.3.2 in /usr/local/lib/python3.10/dist-packages (from scikit-learn) (1.11.4)\n",
            "Requirement already satisfied: joblib>=1.1.1 in /usr/local/lib/python3.10/dist-packages (from scikit-learn) (1.3.2)\n",
            "Requirement already satisfied: threadpoolctl>=2.0.0 in /usr/local/lib/python3.10/dist-packages (from scikit-learn) (3.2.0)\n",
            "Requirement already satisfied: tensorflow in /usr/local/lib/python3.10/dist-packages (2.15.0)\n",
            "Requirement already satisfied: absl-py>=1.0.0 in /usr/local/lib/python3.10/dist-packages (from tensorflow) (1.4.0)\n",
            "Requirement already satisfied: astunparse>=1.6.0 in /usr/local/lib/python3.10/dist-packages (from tensorflow) (1.6.3)\n",
            "Requirement already satisfied: flatbuffers>=23.5.26 in /usr/local/lib/python3.10/dist-packages (from tensorflow) (23.5.26)\n",
            "Requirement already satisfied: gast!=0.5.0,!=0.5.1,!=0.5.2,>=0.2.1 in /usr/local/lib/python3.10/dist-packages (from tensorflow) (0.5.4)\n",
            "Requirement already satisfied: google-pasta>=0.1.1 in /usr/local/lib/python3.10/dist-packages (from tensorflow) (0.2.0)\n",
            "Requirement already satisfied: h5py>=2.9.0 in /usr/local/lib/python3.10/dist-packages (from tensorflow) (3.9.0)\n",
            "Requirement already satisfied: libclang>=13.0.0 in /usr/local/lib/python3.10/dist-packages (from tensorflow) (16.0.6)\n",
            "Requirement already satisfied: ml-dtypes~=0.2.0 in /usr/local/lib/python3.10/dist-packages (from tensorflow) (0.2.0)\n",
            "Requirement already satisfied: numpy<2.0.0,>=1.23.5 in /usr/local/lib/python3.10/dist-packages (from tensorflow) (1.23.5)\n",
            "Requirement already satisfied: opt-einsum>=2.3.2 in /usr/local/lib/python3.10/dist-packages (from tensorflow) (3.3.0)\n",
            "Requirement already satisfied: packaging in /usr/local/lib/python3.10/dist-packages (from tensorflow) (23.2)\n",
            "Requirement already satisfied: protobuf!=4.21.0,!=4.21.1,!=4.21.2,!=4.21.3,!=4.21.4,!=4.21.5,<5.0.0dev,>=3.20.3 in /usr/local/lib/python3.10/dist-packages (from tensorflow) (3.20.3)\n",
            "Requirement already satisfied: setuptools in /usr/local/lib/python3.10/dist-packages (from tensorflow) (67.7.2)\n",
            "Requirement already satisfied: six>=1.12.0 in /usr/local/lib/python3.10/dist-packages (from tensorflow) (1.16.0)\n",
            "Requirement already satisfied: termcolor>=1.1.0 in /usr/local/lib/python3.10/dist-packages (from tensorflow) (2.4.0)\n",
            "Requirement already satisfied: typing-extensions>=3.6.6 in /usr/local/lib/python3.10/dist-packages (from tensorflow) (4.9.0)\n",
            "Requirement already satisfied: wrapt<1.15,>=1.11.0 in /usr/local/lib/python3.10/dist-packages (from tensorflow) (1.14.1)\n",
            "Requirement already satisfied: tensorflow-io-gcs-filesystem>=0.23.1 in /usr/local/lib/python3.10/dist-packages (from tensorflow) (0.36.0)\n",
            "Requirement already satisfied: grpcio<2.0,>=1.24.3 in /usr/local/lib/python3.10/dist-packages (from tensorflow) (1.60.1)\n",
            "Requirement already satisfied: tensorboard<2.16,>=2.15 in /usr/local/lib/python3.10/dist-packages (from tensorflow) (2.15.1)\n",
            "Requirement already satisfied: tensorflow-estimator<2.16,>=2.15.0 in /usr/local/lib/python3.10/dist-packages (from tensorflow) (2.15.0)\n",
            "Requirement already satisfied: keras<2.16,>=2.15.0 in /usr/local/lib/python3.10/dist-packages (from tensorflow) (2.15.0)\n",
            "Requirement already satisfied: wheel<1.0,>=0.23.0 in /usr/local/lib/python3.10/dist-packages (from astunparse>=1.6.0->tensorflow) (0.42.0)\n",
            "Requirement already satisfied: google-auth<3,>=1.6.3 in /usr/local/lib/python3.10/dist-packages (from tensorboard<2.16,>=2.15->tensorflow) (2.17.3)\n",
            "Requirement already satisfied: google-auth-oauthlib<2,>=0.5 in /usr/local/lib/python3.10/dist-packages (from tensorboard<2.16,>=2.15->tensorflow) (1.2.0)\n",
            "Requirement already satisfied: markdown>=2.6.8 in /usr/local/lib/python3.10/dist-packages (from tensorboard<2.16,>=2.15->tensorflow) (3.5.2)\n",
            "Requirement already satisfied: requests<3,>=2.21.0 in /usr/local/lib/python3.10/dist-packages (from tensorboard<2.16,>=2.15->tensorflow) (2.31.0)\n",
            "Requirement already satisfied: tensorboard-data-server<0.8.0,>=0.7.0 in /usr/local/lib/python3.10/dist-packages (from tensorboard<2.16,>=2.15->tensorflow) (0.7.2)\n",
            "Requirement already satisfied: werkzeug>=1.0.1 in /usr/local/lib/python3.10/dist-packages (from tensorboard<2.16,>=2.15->tensorflow) (3.0.1)\n",
            "Requirement already satisfied: cachetools<6.0,>=2.0.0 in /usr/local/lib/python3.10/dist-packages (from google-auth<3,>=1.6.3->tensorboard<2.16,>=2.15->tensorflow) (5.3.2)\n",
            "Requirement already satisfied: pyasn1-modules>=0.2.1 in /usr/local/lib/python3.10/dist-packages (from google-auth<3,>=1.6.3->tensorboard<2.16,>=2.15->tensorflow) (0.3.0)\n",
            "Requirement already satisfied: rsa<5,>=3.1.4 in /usr/local/lib/python3.10/dist-packages (from google-auth<3,>=1.6.3->tensorboard<2.16,>=2.15->tensorflow) (4.9)\n",
            "Requirement already satisfied: requests-oauthlib>=0.7.0 in /usr/local/lib/python3.10/dist-packages (from google-auth-oauthlib<2,>=0.5->tensorboard<2.16,>=2.15->tensorflow) (1.3.1)\n",
            "Requirement already satisfied: charset-normalizer<4,>=2 in /usr/local/lib/python3.10/dist-packages (from requests<3,>=2.21.0->tensorboard<2.16,>=2.15->tensorflow) (3.3.2)\n",
            "Requirement already satisfied: idna<4,>=2.5 in /usr/local/lib/python3.10/dist-packages (from requests<3,>=2.21.0->tensorboard<2.16,>=2.15->tensorflow) (3.6)\n",
            "Requirement already satisfied: urllib3<3,>=1.21.1 in /usr/local/lib/python3.10/dist-packages (from requests<3,>=2.21.0->tensorboard<2.16,>=2.15->tensorflow) (2.0.7)\n",
            "Requirement already satisfied: certifi>=2017.4.17 in /usr/local/lib/python3.10/dist-packages (from requests<3,>=2.21.0->tensorboard<2.16,>=2.15->tensorflow) (2024.2.2)\n",
            "Requirement already satisfied: MarkupSafe>=2.1.1 in /usr/local/lib/python3.10/dist-packages (from werkzeug>=1.0.1->tensorboard<2.16,>=2.15->tensorflow) (2.1.5)\n",
            "Requirement already satisfied: pyasn1<0.6.0,>=0.4.6 in /usr/local/lib/python3.10/dist-packages (from pyasn1-modules>=0.2.1->google-auth<3,>=1.6.3->tensorboard<2.16,>=2.15->tensorflow) (0.5.1)\n",
            "Requirement already satisfied: oauthlib>=3.0.0 in /usr/local/lib/python3.10/dist-packages (from requests-oauthlib>=0.7.0->google-auth-oauthlib<2,>=0.5->tensorboard<2.16,>=2.15->tensorflow) (3.2.2)\n",
            "Requirement already satisfied: keras-tuner in /usr/local/lib/python3.10/dist-packages (1.4.6)\n",
            "Requirement already satisfied: keras in /usr/local/lib/python3.10/dist-packages (from keras-tuner) (2.15.0)\n",
            "Requirement already satisfied: packaging in /usr/local/lib/python3.10/dist-packages (from keras-tuner) (23.2)\n",
            "Requirement already satisfied: requests in /usr/local/lib/python3.10/dist-packages (from keras-tuner) (2.31.0)\n",
            "Requirement already satisfied: kt-legacy in /usr/local/lib/python3.10/dist-packages (from keras-tuner) (1.0.5)\n",
            "Requirement already satisfied: charset-normalizer<4,>=2 in /usr/local/lib/python3.10/dist-packages (from requests->keras-tuner) (3.3.2)\n",
            "Requirement already satisfied: idna<4,>=2.5 in /usr/local/lib/python3.10/dist-packages (from requests->keras-tuner) (3.6)\n",
            "Requirement already satisfied: urllib3<3,>=1.21.1 in /usr/local/lib/python3.10/dist-packages (from requests->keras-tuner) (2.0.7)\n",
            "Requirement already satisfied: certifi>=2017.4.17 in /usr/local/lib/python3.10/dist-packages (from requests->keras-tuner) (2024.2.2)\n",
            "Requirement already satisfied: prettytable in /usr/local/lib/python3.10/dist-packages (3.9.0)\n",
            "Requirement already satisfied: wcwidth in /usr/local/lib/python3.10/dist-packages (from prettytable) (0.2.13)\n"
          ]
        }
      ],
      "source": [
        "!pip install nltk\n",
        "!pip install scikit-learn\n",
        "!pip install tensorflow\n",
        "!pip install keras-tuner\n",
        "!pip install prettytable"
      ]
    },
    {
      "cell_type": "markdown",
      "metadata": {
        "id": "jbLHk_iIYtcK"
      },
      "source": [
        "# Import Libraries"
      ]
    },
    {
      "cell_type": "code",
      "execution_count": null,
      "metadata": {
        "id": "fY5orqZsR_ez"
      },
      "outputs": [],
      "source": [
        "# Standard library imports\n",
        "import os\n",
        "import sys\n",
        "from collections import Counter\n",
        "from tempfile import NamedTemporaryFile\n",
        "from urllib.parse import urlparse, unquote\n",
        "from urllib.request import urlopen\n",
        "from urllib.error import HTTPError\n",
        "from zipfile import ZipFile\n",
        "import tarfile\n",
        "import shutil\n",
        "\n",
        "# Third-party imports for data manipulation and analysis\n",
        "import numpy as np\n",
        "import pandas as pd\n",
        "import re\n",
        "from sklearn.model_selection import train_test_split\n",
        "from sklearn.feature_extraction.text import TfidfVectorizer\n",
        "from sklearn.preprocessing import LabelEncoder\n",
        "from sklearn.metrics import f1_score, accuracy_score, precision_score, recall_score, confusion_matrix\n",
        "\n",
        "# Third-party imports for natural language processing\n",
        "import nltk\n",
        "from nltk.util import ngrams\n",
        "from nltk.tokenize import word_tokenize\n",
        "from nltk.corpus import stopwords\n",
        "from nltk.stem import WordNetLemmatizer\n",
        "from tensorflow.keras.layers import TextVectorization\n",
        "\n",
        "# Third-party imports for deep learning\n",
        "import tensorflow as tf\n",
        "from tensorflow import keras\n",
        "from tensorflow.keras import layers, models, optimizers, callbacks, metrics\n",
        "from tensorflow.keras.callbacks import EarlyStopping\n",
        "from tensorflow.keras.metrics import Precision, Recall\n",
        "from tensorflow.keras.preprocessing.text import Tokenizer\n",
        "from tensorflow.keras.preprocessing.sequence import pad_sequences\n",
        "from tensorflow.keras.utils import to_categorical\n",
        "import keras_tuner\n",
        "from kerastuner import HyperModel\n",
        "from kerastuner.tuners import Hyperband\n",
        "from tensorflow.keras.metrics import Precision, Recall\n",
        "\n",
        "# Third-party imports for data visualization\n",
        "import matplotlib.pyplot as plt\n",
        "import seaborn as sns\n",
        "from prettytable import PrettyTable\n",
        "\n",
        "# Google Colab specific import\n",
        "from google.colab import drive"
      ]
    },
    {
      "cell_type": "markdown",
      "metadata": {
        "id": "Vo_vmPf5YL9D"
      },
      "source": [
        "# Import Dataset"
      ]
    },
    {
      "cell_type": "markdown",
      "metadata": {
        "id": "fw0Kd8BlYzSp"
      },
      "source": [
        "## Import Dataset From Kaggle"
      ]
    },
    {
      "cell_type": "code",
      "execution_count": null,
      "metadata": {
        "colab": {
          "base_uri": "https://localhost:8080/"
        },
        "id": "MSbt0-lLR_ev",
        "outputId": "1ebc71ae-1a11-496c-d5c3-5926ce78177f"
      },
      "outputs": [
        {
          "output_type": "stream",
          "name": "stdout",
          "text": [
            "Downloading look-before-you-leap, 218396561 bytes compressed\n",
            "[==================================================] 218396561 bytes downloaded\n",
            "Downloaded and uncompressed: look-before-you-leap\n",
            "Data source import complete.\n"
          ]
        }
      ],
      "source": [
        "# Define the size of data chunks to be read and processed at a time\n",
        "CHUNK_SIZE = 40960\n",
        "\n",
        "# Define a long URL string which is the data source mapping for the data to be downloaded\n",
        "DATA_SOURCE_MAPPING = 'look-before-you-leap:https%3A%2F%2Fstorage.googleapis.com%2Fkaggle-data-sets%2F2446358%2F4141865%2Fbundle%2Farchive.zip%3FX-Goog-Algorithm%3DGOOG4-RSA-SHA256%26X-Goog-Credential%3Dgcp-kaggle-com%2540kaggle-161607.iam.gserviceaccount.com%252F20240209%252Fauto%252Fstorage%252Fgoog4_request%26X-Goog-Date%3D20240209T045558Z%26X-Goog-Expires%3D259200%26X-Goog-SignedHeaders%3Dhost%26X-Goog-Signature%3D26c8b451f9c02b8c69f4d6ac034539d94d44dac9c618815dcc0755f1012dc51030be0fc8082e269a9d1baef00651cd97c702b5b5337a093328996b7eb22e2416fedc48d0bce0df18282e182aa7aa8acaf36ceee74f13752efbcd43e9d5ef65a8f6418df5b71d0ade4e1327f9b1d142cd8980de3aaecf79cd1ab5364b6dfc51487bb42af97efa2090ec6dd52f78d6b0a3297ce68ec2c8168ac8cc989b58c0c7dccd61cfeb45876ab4996957c6f151d8cebda269c2969a47436e9fa0f23966b8b668fad8c9e29d43c89fe2d0dc1d9c5d8158e1bf41087c02cab0ff4ea1b1d16472b1cd14ce1e96d37bbf6faa4394e7ffa9c094162a4a4c77de0e7107d66c2c3d66'\n",
        "\n",
        "# Define the input and working paths for the Kaggle environment\n",
        "KAGGLE_INPUT_PATH='/kaggle/input'\n",
        "KAGGLE_WORKING_PATH='/kaggle/working'\n",
        "KAGGLE_SYMLINK='kaggle'\n",
        "\n",
        "# Unmount the '/kaggle/input' directory if it's already mounted\n",
        "!umount /kaggle/input/ 2> /dev/null\n",
        "\n",
        "# Delete the '/kaggle/input' directory and its contents if it already exists\n",
        "shutil.rmtree('/kaggle/input', ignore_errors=True)\n",
        "\n",
        "# Create the '/kaggle/input' and '/kaggle/working' directories with read-write-execute permissions for all users\n",
        "os.makedirs(KAGGLE_INPUT_PATH, 0o777, exist_ok=True)\n",
        "os.makedirs(KAGGLE_WORKING_PATH, 0o777, exist_ok=True)\n",
        "\n",
        "# Create symbolic links to the '/kaggle/input' and '/kaggle/working' directories\n",
        "try:\n",
        "  os.symlink(KAGGLE_INPUT_PATH, os.path.join(\"..\", 'input'), target_is_directory=True)\n",
        "except FileExistsError:\n",
        "  pass\n",
        "try:\n",
        "  os.symlink(KAGGLE_WORKING_PATH, os.path.join(\"..\", 'working'), target_is_directory=True)\n",
        "except FileExistsError:\n",
        "  pass\n",
        "\n",
        "# Loop over each data source mapping in the DATA_SOURCE_MAPPING string\n",
        "for data_source_mapping in DATA_SOURCE_MAPPING.split(','):\n",
        "  # Extract the directory and download URL from the data source mapping\n",
        "    directory, download_url_encoded = data_source_mapping.split(':')\n",
        "    download_url = unquote(download_url_encoded)\n",
        "    filename = urlparse(download_url).path\n",
        "    destination_path = os.path.join(KAGGLE_INPUT_PATH, directory)\n",
        "    # Try to download and extract the data\n",
        "    try:\n",
        "        with urlopen(download_url) as fileres, NamedTemporaryFile() as tfile:\n",
        "            total_length = fileres.headers['content-length']\n",
        "            print(f'Downloading {directory}, {total_length} bytes compressed')\n",
        "            dl = 0\n",
        "            data = fileres.read(CHUNK_SIZE)\n",
        "            while len(data) > 0:\n",
        "                dl += len(data)\n",
        "                tfile.write(data)\n",
        "                done = int(50 * dl / int(total_length))\n",
        "                sys.stdout.write(f\"\\r[{'=' * done}{' ' * (50-done)}] {dl} bytes downloaded\")\n",
        "                sys.stdout.flush()\n",
        "                data = fileres.read(CHUNK_SIZE)\n",
        "            if filename.endswith('.zip'):\n",
        "              with ZipFile(tfile) as zfile:\n",
        "                zfile.extractall(destination_path)\n",
        "            else:\n",
        "              with tarfile.open(tfile.name) as tarfile:\n",
        "                tarfile.extractall(destination_path)\n",
        "            print(f'\\nDownloaded and uncompressed: {directory}')\n",
        "    except HTTPError as e:\n",
        "        print(f'Failed to load (likely expired) {download_url} to path {destination_path}')\n",
        "        continue\n",
        "    except OSError as e:\n",
        "        print(f'Failed to load {download_url} to path {destination_path}')\n",
        "        continue\n",
        "\n",
        "# Print a completion message\n",
        "print('Data source import complete.')"
      ]
    },
    {
      "cell_type": "code",
      "execution_count": null,
      "metadata": {
        "colab": {
          "base_uri": "https://localhost:8080/"
        },
        "id": "crlNmXhvR_e0",
        "outputId": "6191f85e-101b-4bcf-a6f3-55bc3d35653e"
      },
      "outputs": [
        {
          "output_type": "stream",
          "name": "stdout",
          "text": [
            "/kaggle/input/look-before-you-leap/html.xlsx\n",
            "/kaggle/input/look-before-you-leap/URL.xlsx\n"
          ]
        }
      ],
      "source": [
        "# Loop over each directory path, directory names, and filenames in the '/kaggle/input' directory and its subdirectories\n",
        "for dirname, _, filenames in os.walk('/kaggle/input'):\n",
        "    # Loop over each file in the current directory\n",
        "    for filename in filenames:\n",
        "        # Print the complete path to the current file\n",
        "        print(os.path.join(dirname, filename))"
      ]
    },
    {
      "cell_type": "markdown",
      "metadata": {
        "id": "-hS4MD6gSyrB"
      },
      "source": [
        "#Mount Google Drive"
      ]
    },
    {
      "cell_type": "code",
      "execution_count": null,
      "metadata": {
        "colab": {
          "base_uri": "https://localhost:8080/"
        },
        "id": "pvxpZOEEYJ3T",
        "outputId": "9fe82902-5dfa-4373-97e2-708d7472f154"
      },
      "outputs": [
        {
          "output_type": "stream",
          "name": "stdout",
          "text": [
            "Mounted at /content/drive\n"
          ]
        }
      ],
      "source": [
        "#Mount Google Drive\n",
        "drive.mount(\"/content/drive\", force_remount=True)"
      ]
    },
    {
      "cell_type": "markdown",
      "metadata": {
        "id": "P7m8Ib_VR_e0"
      },
      "source": [
        "# Load Dataset"
      ]
    },
    {
      "cell_type": "code",
      "execution_count": null,
      "metadata": {
        "colab": {
          "base_uri": "https://localhost:8080/"
        },
        "id": "idbPHY7hR_e2",
        "outputId": "9473e756-d4c4-4a3b-a743-71be7c4c86e5"
      },
      "outputs": [
        {
          "output_type": "stream",
          "name": "stdout",
          "text": [
            "URL Dataset:\n",
            "  Category                                               Data\n",
            "0     spam  logtelstra2021.ddnsking.com/0dfa1b53b835500696...\n",
            "1     spam  dvsber.ru/modules/mod_ariimageslidersa/KRENK3N...\n",
            "2     spam  kimsinc564.000webhostapp.com/notification.php?...\n",
            "3     spam                                     benjim.com/all\n",
            "4     spam                    www.m.micesrunescape.com-we.ru/\n",
            "\n",
            "HTML Dataset:\n",
            "  Category                                               Data\n",
            "0     spam  <!DOCTYPE html>', '', '<html>', '<head>', '<me...\n",
            "1     spam  <!DOCTYPE html><html dir=\"ltr\" lang=\"en\"><head...\n",
            "2     spam  <!DOCTYPE html PUBLIC \"-//W3C//DTD XHTML 1.0 T...\n",
            "3     spam  <meta content=\"1; URL=\\'https://segurancaitauo...\n",
            "4     spam  <!DOCTYPE HTML PUBLIC \"-//W3C//DTD HTML 4.01//...\n"
          ]
        }
      ],
      "source": [
        "# Load the URL dataset\n",
        "url_df = pd.read_excel('/kaggle/input/look-before-you-leap/URL.xlsx')\n",
        "\n",
        "# Load the HTML dataset\n",
        "html_df = pd.read_excel('/kaggle/input/look-before-you-leap/html.xlsx')\n",
        "\n",
        "# Display the first few rows of each dataset to confirm successful loading\n",
        "print(\"URL Dataset:\")\n",
        "print(url_df.head())\n",
        "print(\"\\nHTML Dataset:\")\n",
        "print(html_df.head())"
      ]
    },
    {
      "cell_type": "markdown",
      "metadata": {
        "id": "ezMMGcwGR_e3"
      },
      "source": [
        "# Exploratory Data Analysis"
      ]
    },
    {
      "cell_type": "markdown",
      "source": [
        "## Overview of Data"
      ],
      "metadata": {
        "id": "dOXOJCHTVq9H"
      }
    },
    {
      "cell_type": "code",
      "execution_count": null,
      "metadata": {
        "colab": {
          "base_uri": "https://localhost:8080/"
        },
        "id": "FeTCcdMPR_e3",
        "outputId": "8b972745-562c-458f-8732-361c2741d218"
      },
      "outputs": [
        {
          "output_type": "stream",
          "name": "stdout",
          "text": [
            "URL Dataset Shape: (45373, 4)\n",
            "HTML Dataset Shape: (45373, 4)\n"
          ]
        }
      ],
      "source": [
        "# Overview of Data\n",
        "print(\"URL Dataset Shape:\", url_df.shape)\n",
        "print(\"HTML Dataset Shape:\", html_df.shape)"
      ]
    },
    {
      "cell_type": "markdown",
      "source": [
        "## Examine The Content"
      ],
      "metadata": {
        "id": "m0ekeFHsWNn0"
      }
    },
    {
      "cell_type": "code",
      "execution_count": null,
      "metadata": {
        "id": "vYEoFNetR_e6",
        "outputId": "02e3ea81-e5a0-4e39-b28c-8b1436668717",
        "colab": {
          "base_uri": "https://localhost:8080/"
        }
      },
      "outputs": [
        {
          "output_type": "stream",
          "name": "stdout",
          "text": [
            "\n",
            "Sample URLs:\n",
            "25715                       www.isoc.org/internet/history/\n",
            "18810                                       www.aeon-jp.cc\n",
            "40421                         miolkoijhjhjhb.gq/CC_POSTALE\n",
            "18744    www.theatlantic.com/unbound/digitalreader/dr20...\n",
            "28869                 dimacs.rutgers.edu/Workshops/Faster/\n",
            "Name: Data, dtype: object\n",
            "\n",
            "Sample HTML Contents:\n",
            "34050    <!DOCTYPE html><!--[if IE 8]><html class=\"ie8 ...\n",
            "28401    <!DOCTYPE html><html class=\"no-js\" lang=\"ja\" p...\n",
            "30395    <!DOCTYPE html><!--[if IE 8]><html class=\"no-j...\n",
            "16411    <!DOCTYPE html>', '<html itemscope=\"\" itemtype...\n",
            "17942    <!DOCTYPE html>', '', '<html dir=\"rtl\" prefix=...\n",
            "Name: Data, dtype: object\n"
          ]
        }
      ],
      "source": [
        "# Content Examination\n",
        "print(\"\\nSample URLs:\")\n",
        "print(url_df['Data'].sample(5))\n",
        "print(\"\\nSample HTML Contents:\")\n",
        "print(html_df['Data'].sample(5))"
      ]
    },
    {
      "cell_type": "markdown",
      "source": [
        "## Print Data Types"
      ],
      "metadata": {
        "id": "SSct9G3PVtzA"
      }
    },
    {
      "cell_type": "code",
      "execution_count": null,
      "metadata": {
        "id": "JIuHdfv9R_e4",
        "outputId": "bb1d91b0-5636-4ed4-ab4d-fec02d265fdc",
        "colab": {
          "base_uri": "https://localhost:8080/"
        }
      },
      "outputs": [
        {
          "output_type": "stream",
          "name": "stdout",
          "text": [
            "\n",
            "URL Dataset Data Types:\n",
            "Category            object\n",
            "Data                object\n",
            "Cleaned_Data        object\n",
            "Category_Encoded     int64\n",
            "dtype: object\n",
            "\n",
            "HTML Dataset Data Types:\n",
            "Category            object\n",
            "Data                object\n",
            "Cleaned_Data        object\n",
            "Category_Encoded     int64\n",
            "dtype: object\n"
          ]
        }
      ],
      "source": [
        "# Data Types\n",
        "print(\"\\nURL Dataset Data Types:\")\n",
        "print(url_df.dtypes)\n",
        "print(\"\\nHTML Dataset Data Types:\")\n",
        "print(html_df.dtypes)"
      ]
    },
    {
      "cell_type": "markdown",
      "source": [
        "## Print Missing Values"
      ],
      "metadata": {
        "id": "Oi_A2D9GVwqF"
      }
    },
    {
      "cell_type": "code",
      "execution_count": null,
      "metadata": {
        "id": "LykKj5VuR_e5",
        "outputId": "b75a07f8-64d9-45f7-ac68-2533b1ea1733",
        "colab": {
          "base_uri": "https://localhost:8080/"
        }
      },
      "outputs": [
        {
          "output_type": "stream",
          "name": "stdout",
          "text": [
            "\n",
            "Missing Values in URL Dataset:\n",
            "Category            0\n",
            "Data                0\n",
            "Cleaned_Data        0\n",
            "Category_Encoded    0\n",
            "dtype: int64\n",
            "\n",
            "Missing Values in HTML Dataset:\n",
            "Category            0\n",
            "Data                0\n",
            "Cleaned_Data        0\n",
            "Category_Encoded    0\n",
            "dtype: int64\n"
          ]
        }
      ],
      "source": [
        "# Missing Values\n",
        "print(\"\\nMissing Values in URL Dataset:\")\n",
        "print(url_df.isnull().sum())\n",
        "print(\"\\nMissing Values in HTML Dataset:\")\n",
        "print(html_df.isnull().sum())"
      ]
    },
    {
      "cell_type": "markdown",
      "source": [
        "## Print Value Counts"
      ],
      "metadata": {
        "id": "CcLbVTrwWGxQ"
      }
    },
    {
      "cell_type": "code",
      "execution_count": null,
      "metadata": {
        "id": "3mSyuCI0R_e5",
        "outputId": "ab278f16-96d0-47f2-c982-c9eceeacd69d",
        "colab": {
          "base_uri": "https://localhost:8080/"
        }
      },
      "outputs": [
        {
          "output_type": "stream",
          "name": "stdout",
          "text": [
            "\n",
            "Category Distribution in URL Dataset:\n",
            "ham     22687\n",
            "spam    22686\n",
            "Name: Category, dtype: int64\n",
            "\n",
            "Category Distribution in HTML Dataset:\n",
            "ham     22687\n",
            "spam    22686\n",
            "Name: Category, dtype: int64\n"
          ]
        }
      ],
      "source": [
        "# Value Counts\n",
        "print(\"\\nCategory Distribution in URL Dataset:\")\n",
        "print(url_df['Category'].value_counts())\n",
        "print(\"\\nCategory Distribution in HTML Dataset:\")\n",
        "print(html_df['Category'].value_counts())"
      ]
    },
    {
      "cell_type": "markdown",
      "source": [
        "## Print Unique Values"
      ],
      "metadata": {
        "id": "8JDXDCJnWJ8i"
      }
    },
    {
      "cell_type": "code",
      "execution_count": null,
      "metadata": {
        "id": "dKgYkrJJR_e6",
        "outputId": "0b3dc904-2ec6-475c-cec7-0e8b1c94a430",
        "colab": {
          "base_uri": "https://localhost:8080/"
        }
      },
      "outputs": [
        {
          "output_type": "stream",
          "name": "stdout",
          "text": [
            "\n",
            "Unique URLs: 44078\n",
            "Unique HTML Contents: 32707\n"
          ]
        }
      ],
      "source": [
        "# Unique Values\n",
        "print(\"\\nUnique URLs:\", url_df['Data'].nunique())\n",
        "print(\"Unique HTML Contents:\", html_df['Data'].nunique())"
      ]
    },
    {
      "cell_type": "markdown",
      "source": [
        "## Distribution of Categories in URL Dataset"
      ],
      "metadata": {
        "id": "-sZoucb1WXDl"
      }
    },
    {
      "cell_type": "code",
      "execution_count": null,
      "metadata": {
        "id": "QA9WbFmrR_e6",
        "outputId": "1d34050f-5a85-496c-c9b2-f8f005e3eff2",
        "colab": {
          "base_uri": "https://localhost:8080/",
          "height": 574
        }
      },
      "outputs": [
        {
          "output_type": "stream",
          "name": "stderr",
          "text": [
            "<ipython-input-91-5c41c2303e6d>:8: FutureWarning: \n",
            "\n",
            "Passing `palette` without assigning `hue` is deprecated and will be removed in v0.14.0. Assign the `x` variable to `hue` and set `legend=False` for the same effect.\n",
            "\n",
            "  ax = sns.countplot(x='Category', data=url_df, palette=color_palette)\n"
          ]
        },
        {
          "output_type": "display_data",
          "data": {
            "text/plain": [
              "<Figure size 1000x500 with 1 Axes>"
            ],
            "image/png": "[encoded data removed]"
          },
          "metadata": {}
        }
      ],
      "source": [
        "# Visualize Distribution of Categories in URL Dataset\n",
        "plt.figure(figsize=(10, 5))\n",
        "\n",
        "# Create a customized color palette\n",
        "color_palette = ['red', 'blue']\n",
        "\n",
        "# Plot a countplot with the specified color palette\n",
        "ax = sns.countplot(x='Category', data=url_df, palette=color_palette)\n",
        "\n",
        "# Add a title to the plot\n",
        "plt.title('Distribution of Categories in URL Dataset', fontweight='bold')\n",
        "\n",
        "# Add exact values on top of the bars\n",
        "for p in ax.patches:\n",
        "    ax.annotate(format(p.get_height(), '.0f'),\n",
        "                (p.get_x() + p.get_width() / 2., p.get_height()),\n",
        "                ha = 'center',\n",
        "                va = 'center',\n",
        "                xytext = (0, 10),\n",
        "                textcoords = 'offset points')\n",
        "\n",
        "# Extend y-limit to make space for the text\n",
        "ax.set_ylim(0, max([p.get_height() for p in ax.patches])*1.1)\n",
        "\n",
        "# Show the plot\n",
        "plt.show()"
      ]
    },
    {
      "cell_type": "markdown",
      "source": [
        "## Distribution of Categories in HTML Dataset"
      ],
      "metadata": {
        "id": "1-0OJUHSWdrQ"
      }
    },
    {
      "cell_type": "code",
      "execution_count": null,
      "metadata": {
        "id": "p-wtETsvR_e6",
        "outputId": "2329e3a6-c6c6-49bc-c749-4881b3bbe2e1",
        "colab": {
          "base_uri": "https://localhost:8080/",
          "height": 574
        }
      },
      "outputs": [
        {
          "output_type": "stream",
          "name": "stderr",
          "text": [
            "<ipython-input-92-c4c279d52d65>:8: FutureWarning: \n",
            "\n",
            "Passing `palette` without assigning `hue` is deprecated and will be removed in v0.14.0. Assign the `x` variable to `hue` and set `legend=False` for the same effect.\n",
            "\n",
            "  ax = sns.countplot(x='Category', data=html_df, palette=color_palette)\n"
          ]
        },
        {
          "output_type": "display_data",
          "data": {
            "text/plain": [
              "<Figure size 1000x500 with 1 Axes>"
            ],
            "image/png": "[encoded data removed]"
          },
          "metadata": {}
        }
      ],
      "source": [
        "# Visualize Distribution of Categories in HTML Dataset\n",
        "plt.figure(figsize=(10, 5))\n",
        "\n",
        "# Create a customized color palette\n",
        "color_palette = ['red', 'blue']\n",
        "\n",
        "# Plot a countplot with the specified color palette\n",
        "ax = sns.countplot(x='Category', data=html_df, palette=color_palette)\n",
        "\n",
        "# Add a title to the plot\n",
        "plt.title('Distribution of Categories in HTML Dataset', fontweight='bold')\n",
        "\n",
        "# Add exact values on top of the bars\n",
        "for p in ax.patches:\n",
        "    ax.annotate(format(p.get_height(), '.0f'),\n",
        "                (p.get_x() + p.get_width() / 2., p.get_height()),\n",
        "                ha = 'center',\n",
        "                va = 'center',\n",
        "                xytext = (0, 10),\n",
        "                textcoords = 'offset points')\n",
        "\n",
        "# Extend y-limit to make space for the text\n",
        "ax.set_ylim(0, max([p.get_height() for p in ax.patches])*1.1)\n",
        "\n",
        "# Show the plot\n",
        "plt.show()"
      ]
    },
    {
      "cell_type": "markdown",
      "source": [
        "## Check Distribution Percentages"
      ],
      "metadata": {
        "id": "wjaYjolwWkT2"
      }
    },
    {
      "cell_type": "code",
      "source": [
        "# Distribution Percentages\n",
        "url_category_percentage = url_df['Category'].value_counts(normalize=True) * 100\n",
        "html_category_percentage = html_df['Category'].value_counts(normalize=True) * 100\n",
        "print(\"\\nURL Category Distribution Percentage:\")\n",
        "print(url_category_percentage)\n",
        "print(\"\\nHTML Category Distribution Percentage:\")\n",
        "print(html_category_percentage)"
      ],
      "metadata": {
        "colab": {
          "base_uri": "https://localhost:8080/"
        },
        "id": "kRB_kiBcTQjJ",
        "outputId": "c4029098-9e85-4577-fd2f-2fb5eab23351"
      },
      "execution_count": null,
      "outputs": [
        {
          "output_type": "stream",
          "name": "stdout",
          "text": [
            "\n",
            "URL Category Distribution Percentage:\n",
            "ham     50.001102\n",
            "spam    49.998898\n",
            "Name: Category, dtype: float64\n",
            "\n",
            "HTML Category Distribution Percentage:\n",
            "ham     50.001102\n",
            "spam    49.998898\n",
            "Name: Category, dtype: float64\n"
          ]
        }
      ]
    },
    {
      "cell_type": "markdown",
      "source": [
        "## Visualize URL Category Distribution Percentage"
      ],
      "metadata": {
        "id": "7ADiU7oYWqHO"
      }
    },
    {
      "cell_type": "code",
      "execution_count": null,
      "metadata": {
        "id": "WJwn8gNeR_e6",
        "outputId": "296cc91b-df8b-4bf8-d579-d92b5aa86ad4",
        "colab": {
          "base_uri": "https://localhost:8080/",
          "height": 675
        }
      },
      "outputs": [
        {
          "output_type": "display_data",
          "data": {
            "text/plain": [
              "<Figure size 800x800 with 1 Axes>"
            ],
            "image/png": "[encoded data removed]"
          },
          "metadata": {}
        }
      ],
      "source": [
        "# Visualize Distributions\n",
        "fig, ax = plt.subplots(figsize=(8, 8))\n",
        "\n",
        "# Create a customized color palette\n",
        "colors = ['red', 'blue'] # Red for phishing, blue for legitimate\n",
        "\n",
        "# Plot a pie chart with the specified color palette\n",
        "wedges, texts, autotexts = ax.pie(url_category_percentage, autopct='%1.1f%%', startangle=140, colors=colors, pctdistance=0.85)\n",
        "\n",
        "# Draw a white circle at the center (for aesthetics)\n",
        "centre_circle = plt.Circle((0,0),0.70,fc='white')\n",
        "fig = plt.gcf()\n",
        "fig.gca().add_artist(centre_circle)\n",
        "\n",
        "# Change the font size of the percentage labels\n",
        "plt.setp(autotexts, size=14, weight=\"bold\", color=\"white\")\n",
        "\n",
        "# Add a title to the plot\n",
        "plt.title('URL Category Distribution Percentage', fontweight='bold')\n",
        "\n",
        "# Add a legend\n",
        "ax.legend(wedges, ['Phishing/Spam', 'Legitimate/Ham'], title=\"Categories\", loc=\"center left\", bbox_to_anchor=(1, 0, 0.5, 1))\n",
        "\n",
        "# Hide the y-label as it's unnecessary here\n",
        "plt.ylabel('')\n",
        "\n",
        "# Show the plot\n",
        "plt.show()\n"
      ]
    },
    {
      "cell_type": "markdown",
      "source": [
        "## Visualize HTML Category Distribution Percentage"
      ],
      "metadata": {
        "id": "IVXmPADiWvmR"
      }
    },
    {
      "cell_type": "code",
      "execution_count": null,
      "metadata": {
        "id": "4CIBDbuxR_e7",
        "outputId": "38f8a0b0-a0b0-4d02-c61d-e9127052b4df",
        "colab": {
          "base_uri": "https://localhost:8080/",
          "height": 675
        }
      },
      "outputs": [
        {
          "output_type": "display_data",
          "data": {
            "text/plain": [
              "<Figure size 800x800 with 1 Axes>"
            ],
            "image/png": "[encoded data removed]"
          },
          "metadata": {}
        }
      ],
      "source": [
        "# Create a figure and a set of subplots\n",
        "fig, ax = plt.subplots(figsize=(8, 8))\n",
        "\n",
        "# Create a customized color palette\n",
        "colors = ['red', 'blue'] # Red for phishing, blue for legitimate\n",
        "\n",
        "# Plot a pie chart with the specified color palette\n",
        "wedges, texts, autotexts = ax.pie(html_category_percentage, autopct='%1.1f%%', startangle=140, colors=colors, pctdistance=0.85)\n",
        "\n",
        "# Draw a white circle at the center (for aesthetics)\n",
        "centre_circle = plt.Circle((0,0),0.70,fc='white')\n",
        "fig.gca().add_artist(centre_circle)\n",
        "\n",
        "# Change the font size of the percentage labels\n",
        "plt.setp(autotexts, size=14, weight=\"bold\", color=\"white\")\n",
        "\n",
        "# Add a title to the plot\n",
        "plt.title('HTML Category Distribution Percentage', fontweight='bold')\n",
        "\n",
        "# Add a legend\n",
        "ax.legend(wedges, ['Phishing/Spam', 'Legitimate/Ham'], title=\"Categories\", loc=\"center left\", bbox_to_anchor=(1, 0, 0.5, 1))\n",
        "\n",
        "# Hide the y-label as it's unnecessary here\n",
        "plt.ylabel('')\n",
        "\n",
        "# Show the plot\n",
        "plt.show()"
      ]
    },
    {
      "cell_type": "markdown",
      "source": [
        "## URL Length Analysis"
      ],
      "metadata": {
        "id": "M2hFNtUNXPrX"
      }
    },
    {
      "cell_type": "code",
      "execution_count": null,
      "metadata": {
        "id": "KwztwqV5R_e7",
        "outputId": "c8ee8c61-71f3-46b3-9286-98e96cdbc6b4",
        "colab": {
          "base_uri": "https://localhost:8080/",
          "height": 564
        }
      },
      "outputs": [
        {
          "output_type": "display_data",
          "data": {
            "text/plain": [
              "<Figure size 1000x600 with 1 Axes>"
            ],
            "image/png": "[encoded data removed]"
          },
          "metadata": {}
        }
      ],
      "source": [
        "# URL Length Analysis\n",
        "url_df['url_length'] = url_df['Data'].apply(len)\n",
        "\n",
        "plt.figure(figsize=(10, 6))\n",
        "sns.boxplot(x='Category', y='url_length', data=url_df)\n",
        "plt.title('URL Length by Category', fontweight=\"bold\")\n",
        "plt.show()"
      ]
    },
    {
      "cell_type": "markdown",
      "source": [
        "## HTML Length Analysis"
      ],
      "metadata": {
        "id": "RwSMl3xkXbOr"
      }
    },
    {
      "cell_type": "code",
      "source": [
        "# HTML Content Length Analysis\n",
        "html_df['content_length'] = html_df['Data'].apply(len)\n",
        "\n",
        "plt.figure(figsize=(10, 6))\n",
        "sns.boxplot(x='Category', y='content_length', data=html_df)\n",
        "plt.title('HTML Content Length by Category', fontweight=\"bold\")\n",
        "plt.show()"
      ],
      "metadata": {
        "colab": {
          "base_uri": "https://localhost:8080/",
          "height": 564
        },
        "id": "WSXYkHaCXddx",
        "outputId": "2aa28b67-59da-4006-ad14-edd999d4270e"
      },
      "execution_count": null,
      "outputs": [
        {
          "output_type": "display_data",
          "data": {
            "text/plain": [
              "<Figure size 1000x600 with 1 Axes>"
            ],
            "image/png": "[encoded data removed]"
          },
          "metadata": {}
        }
      ]
    },
    {
      "cell_type": "markdown",
      "metadata": {
        "id": "MnCaNh8RR_e7"
      },
      "source": [
        "# Preprocessing"
      ]
    },
    {
      "cell_type": "markdown",
      "source": [
        "## Download NLTK Resources"
      ],
      "metadata": {
        "id": "05kNgJbtZKhZ"
      }
    },
    {
      "cell_type": "code",
      "execution_count": null,
      "metadata": {
        "colab": {
          "base_uri": "https://localhost:8080/"
        },
        "id": "wtRixMFzR_e8",
        "outputId": "91d2dcd4-8d13-4403-8688-c97f0e8ae811"
      },
      "outputs": [
        {
          "output_type": "stream",
          "name": "stderr",
          "text": [
            "[nltk_data] Downloading package punkt to /root/nltk_data...\n",
            "[nltk_data]   Unzipping tokenizers/punkt.zip.\n",
            "[nltk_data] Downloading package stopwords to /root/nltk_data...\n",
            "[nltk_data]   Unzipping corpora/stopwords.zip.\n",
            "[nltk_data] Downloading package wordnet to /root/nltk_data...\n"
          ]
        },
        {
          "output_type": "execute_result",
          "data": {
            "text/plain": [
              "True"
            ]
          },
          "metadata": {},
          "execution_count": 7
        }
      ],
      "source": [
        "# Ensure necessary NLTK resources are downloaded\n",
        "nltk.download('punkt')\n",
        "nltk.download('stopwords')\n",
        "nltk.download('wordnet')"
      ]
    },
    {
      "cell_type": "markdown",
      "source": [
        "## Load Stopwords"
      ],
      "metadata": {
        "id": "FYBig6peZO_F"
      }
    },
    {
      "cell_type": "code",
      "execution_count": null,
      "metadata": {
        "id": "JMIYbM72nVwN"
      },
      "outputs": [],
      "source": [
        "# Load stopwords once to improve efficiency\n",
        "STOPWORDS = set(stopwords.words('english'))"
      ]
    },
    {
      "cell_type": "markdown",
      "source": [
        "## Initialize Lemmatizer"
      ],
      "metadata": {
        "id": "L2VGAu1sZVSg"
      }
    },
    {
      "cell_type": "code",
      "execution_count": null,
      "metadata": {
        "id": "SoP6uweqnWP7"
      },
      "outputs": [],
      "source": [
        "# Initialize WordNetLemmatizer\n",
        "lemmatizer = WordNetLemmatizer()"
      ]
    },
    {
      "cell_type": "markdown",
      "source": [
        "## Clean and Preprocess URL Data"
      ],
      "metadata": {
        "id": "b1Gq35kgZZyJ"
      }
    },
    {
      "cell_type": "code",
      "execution_count": null,
      "metadata": {
        "id": "rFZGtGHnR_e8"
      },
      "outputs": [],
      "source": [
        "# Function to clean and preprocess URL data\n",
        "def preprocess_url(url):\n",
        "    url = url.lower()  # Convert to lowercase\n",
        "    url = re.sub(r'https?://', '', url)  # Remove http or https\n",
        "    url = re.sub(r'www\\.', '', url)  # Remove www\n",
        "    url = re.sub(r'[^a-zA-Z0-9]', ' ', url)  # Remove special characters\n",
        "    url = re.sub(r'\\s+', ' ', url).strip()  # Remove extra spaces\n",
        "    tokens = word_tokenize(url)  # Tokenize\n",
        "    tokens = [word for word in tokens if word not in STOPWORDS]  # Remove stopwords\n",
        "    tokens = [lemmatizer.lemmatize(word) for word in tokens]  # Lemmatization\n",
        "    return ' '.join(tokens)"
      ]
    },
    {
      "cell_type": "markdown",
      "source": [
        "## Clean and Preprocess HTML Data"
      ],
      "metadata": {
        "id": "z0nLG4c0ZftC"
      }
    },
    {
      "cell_type": "code",
      "execution_count": null,
      "metadata": {
        "id": "kDf3HdwfR_e8"
      },
      "outputs": [],
      "source": [
        "# Function to clean and preprocess HTML data\n",
        "def preprocess_html(html):\n",
        "    html = re.sub(r'<[^>]+>', ' ', html)  # Remove HTML tags\n",
        "    html = html.lower()  # Convert to lowercase\n",
        "    html = re.sub(r'https?://', '', html)  # Remove http or https\n",
        "    html = re.sub(r'[^a-zA-Z0-9]', ' ', html)  # Remove special characters\n",
        "    html = re.sub(r'\\s+', ' ', html).strip()  # Remove extra spaces\n",
        "    tokens = word_tokenize(html)  # Tokenize\n",
        "    tokens = [word for word in tokens if word not in STOPWORDS]  # Remove stopwords\n",
        "    tokens = [lemmatizer.lemmatize(word) for word in tokens]  # Lemmatization\n",
        "    return ' '.join(tokens)"
      ]
    },
    {
      "cell_type": "markdown",
      "source": [
        "## Clean URL 'Data' Columns"
      ],
      "metadata": {
        "id": "n1FBcguHZkCg"
      }
    },
    {
      "cell_type": "code",
      "execution_count": null,
      "metadata": {
        "id": "Mn423bwAR_e9"
      },
      "outputs": [],
      "source": [
        "# Clean URL 'Data' Columns\n",
        "url_df['Cleaned_Data'] = url_df['Data'].apply(preprocess_url)"
      ]
    },
    {
      "cell_type": "markdown",
      "source": [
        "## Clean HTML 'Data' Columns"
      ],
      "metadata": {
        "id": "vpS2uvQGZ3dU"
      }
    },
    {
      "cell_type": "code",
      "source": [
        "# Clean HTML 'Data' Columns\n",
        "html_df['Cleaned_Data'] = html_df['Data'].apply(preprocess_html)"
      ],
      "metadata": {
        "id": "0rbV4GdpZvNR"
      },
      "execution_count": null,
      "outputs": []
    },
    {
      "cell_type": "markdown",
      "source": [
        "## Print Cleaned URL Data"
      ],
      "metadata": {
        "id": "d5rfBqncaTkv"
      }
    },
    {
      "cell_type": "code",
      "execution_count": null,
      "metadata": {
        "colab": {
          "base_uri": "https://localhost:8080/",
          "height": 224
        },
        "id": "2trC3FxYR_e9",
        "outputId": "ee636753-b97d-4e64-9d23-5405dda90486"
      },
      "outputs": [
        {
          "output_type": "stream",
          "name": "stdout",
          "text": [
            "URL Data After Cleaning:\n"
          ]
        },
        {
          "output_type": "display_data",
          "data": {
            "text/plain": [
              "                                                Data  \\\n",
              "0  logtelstra2021.ddnsking.com/0dfa1b53b835500696...   \n",
              "1  dvsber.ru/modules/mod_ariimageslidersa/KRENK3N...   \n",
              "2  kimsinc564.000webhostapp.com/notification.php?...   \n",
              "3                                     benjim.com/all   \n",
              "4                    www.m.micesrunescape.com-we.ru/   \n",
              "\n",
              "                                        Cleaned_Data  \n",
              "0  logtelstra2021 ddnsking com 0dfa1b53b835500696...  \n",
              "1  dvsber ru module mod ariimageslidersa krenk3n4...  \n",
              "2  kimsinc564 000webhostapp com notification php ...  \n",
              "3                                         benjim com  \n",
              "4                              micesrunescape com ru  "
            ],
            "text/html": [
              "\n",
              "  <div id=\"df-3ebde144-1dda-46f2-87a2-b07bd83a6b4c\" class=\"colab-df-container\">\n",
              "    <div>\n",
              "<style scoped>\n",
              "    .dataframe tbody tr th:only-of-type {\n",
              "        vertical-align: middle;\n",
              "    }\n",
              "\n",
              "    .dataframe tbody tr th {\n",
              "        vertical-align: top;\n",
              "    }\n",
              "\n",
              "    .dataframe thead th {\n",
              "        text-align: right;\n",
              "    }\n",
              "</style>\n",
              "<table border=\"1\" class=\"dataframe\">\n",
              "  <thead>\n",
              "    <tr style=\"text-align: right;\">\n",
              "      <th></th>\n",
              "      <th>Data</th>\n",
              "      <th>Cleaned_Data</th>\n",
              "    </tr>\n",
              "  </thead>\n",
              "  <tbody>\n",
              "    <tr>\n",
              "      <th>0</th>\n",
              "      <td>logtelstra2021.ddnsking.com/0dfa1b53b835500696...</td>\n",
              "      <td>logtelstra2021 ddnsking com 0dfa1b53b835500696...</td>\n",
              "    </tr>\n",
              "    <tr>\n",
              "      <th>1</th>\n",
              "      <td>dvsber.ru/modules/mod_ariimageslidersa/KRENK3N...</td>\n",
              "      <td>dvsber ru module mod ariimageslidersa krenk3n4...</td>\n",
              "    </tr>\n",
              "    <tr>\n",
              "      <th>2</th>\n",
              "      <td>kimsinc564.000webhostapp.com/notification.php?...</td>\n",
              "      <td>kimsinc564 000webhostapp com notification php ...</td>\n",
              "    </tr>\n",
              "    <tr>\n",
              "      <th>3</th>\n",
              "      <td>benjim.com/all</td>\n",
              "      <td>benjim com</td>\n",
              "    </tr>\n",
              "    <tr>\n",
              "      <th>4</th>\n",
              "      <td>www.m.micesrunescape.com-we.ru/</td>\n",
              "      <td>micesrunescape com ru</td>\n",
              "    </tr>\n",
              "  </tbody>\n",
              "</table>\n",
              "</div>\n",
              "    <div class=\"colab-df-buttons\">\n",
              "\n",
              "  <div class=\"colab-df-container\">\n",
              "    <button class=\"colab-df-convert\" onclick=\"convertToInteractive('df-3ebde144-1dda-46f2-87a2-b07bd83a6b4c')\"\n",
              "            title=\"Convert this dataframe to an interactive table.\"\n",
              "            style=\"display:none;\">\n",
              "\n",
              "  <svg xmlns=\"http://www.w3.org/2000/svg\" height=\"24px\" viewBox=\"0 -960 960 960\">\n",
              "    <path d=\"M120-120v-720h720v720H120Zm60-500h600v-160H180v160Zm220 220h160v-160H400v160Zm0 220h160v-160H400v160ZM180-400h160v-160H180v160Zm440 0h160v-160H620v160ZM180-180h160v-160H180v160Zm440 0h160v-160H620v160Z\"/>\n",
              "  </svg>\n",
              "    </button>\n",
              "\n",
              "  <style>\n",
              "    .colab-df-container {\n",
              "      display:flex;\n",
              "      gap: 12px;\n",
              "    }\n",
              "\n",
              "    .colab-df-convert {\n",
              "      background-color: #E8F0FE;\n",
              "      border: none;\n",
              "      border-radius: 50%;\n",
              "      cursor: pointer;\n",
              "      display: none;\n",
              "      fill: #1967D2;\n",
              "      height: 32px;\n",
              "      padding: 0 0 0 0;\n",
              "      width: 32px;\n",
              "    }\n",
              "\n",
              "    .colab-df-convert:hover {\n",
              "      background-color: #E2EBFA;\n",
              "      box-shadow: 0px 1px 2px rgba(60, 64, 67, 0.3), 0px 1px 3px 1px rgba(60, 64, 67, 0.15);\n",
              "      fill: #174EA6;\n",
              "    }\n",
              "\n",
              "    .colab-df-buttons div {\n",
              "      margin-bottom: 4px;\n",
              "    }\n",
              "\n",
              "    [theme=dark] .colab-df-convert {\n",
              "      background-color: #3B4455;\n",
              "      fill: #D2E3FC;\n",
              "    }\n",
              "\n",
              "    [theme=dark] .colab-df-convert:hover {\n",
              "      background-color: #434B5C;\n",
              "      box-shadow: 0px 1px 3px 1px rgba(0, 0, 0, 0.15);\n",
              "      filter: drop-shadow(0px 1px 2px rgba(0, 0, 0, 0.3));\n",
              "      fill: #FFFFFF;\n",
              "    }\n",
              "  </style>\n",
              "\n",
              "    <script>\n",
              "      const buttonEl =\n",
              "        document.querySelector('#df-3ebde144-1dda-46f2-87a2-b07bd83a6b4c button.colab-df-convert');\n",
              "      buttonEl.style.display =\n",
              "        google.colab.kernel.accessAllowed ? 'block' : 'none';\n",
              "\n",
              "      async function convertToInteractive(key) {\n",
              "        const element = document.querySelector('#df-3ebde144-1dda-46f2-87a2-b07bd83a6b4c');\n",
              "        const dataTable =\n",
              "          await google.colab.kernel.invokeFunction('convertToInteractive',\n",
              "                                                    [key], {});\n",
              "        if (!dataTable) return;\n",
              "\n",
              "        const docLinkHtml = 'Like what you see? Visit the ' +\n",
              "          '<a target=\"_blank\" href=https://colab.research.google.com/notebooks/data_table.ipynb>data table notebook</a>'\n",
              "          + ' to learn more about interactive tables.';\n",
              "        element.innerHTML = '';\n",
              "        dataTable['output_type'] = 'display_data';\n",
              "        await google.colab.output.renderOutput(dataTable, element);\n",
              "        const docLink = document.createElement('div');\n",
              "        docLink.innerHTML = docLinkHtml;\n",
              "        element.appendChild(docLink);\n",
              "      }\n",
              "    </script>\n",
              "  </div>\n",
              "\n",
              "\n",
              "<div id=\"df-d765c6fd-c230-46ce-8370-91f533c88873\">\n",
              "  <button class=\"colab-df-quickchart\" onclick=\"quickchart('df-d765c6fd-c230-46ce-8370-91f533c88873')\"\n",
              "            title=\"Suggest charts\"\n",
              "            style=\"display:none;\">\n",
              "\n",
              "<svg xmlns=\"http://www.w3.org/2000/svg\" height=\"24px\"viewBox=\"0 0 24 24\"\n",
              "     width=\"24px\">\n",
              "    <g>\n",
              "        <path d=\"M19 3H5c-1.1 0-2 .9-2 2v14c0 1.1.9 2 2 2h14c1.1 0 2-.9 2-2V5c0-1.1-.9-2-2-2zM9 17H7v-7h2v7zm4 0h-2V7h2v10zm4 0h-2v-4h2v4z\"/>\n",
              "    </g>\n",
              "</svg>\n",
              "  </button>\n",
              "\n",
              "<style>\n",
              "  .colab-df-quickchart {\n",
              "      --bg-color: #E8F0FE;\n",
              "      --fill-color: #1967D2;\n",
              "      --hover-bg-color: #E2EBFA;\n",
              "      --hover-fill-color: #174EA6;\n",
              "      --disabled-fill-color: #AAA;\n",
              "      --disabled-bg-color: #DDD;\n",
              "  }\n",
              "\n",
              "  [theme=dark] .colab-df-quickchart {\n",
              "      --bg-color: #3B4455;\n",
              "      --fill-color: #D2E3FC;\n",
              "      --hover-bg-color: #434B5C;\n",
              "      --hover-fill-color: #FFFFFF;\n",
              "      --disabled-bg-color: #3B4455;\n",
              "      --disabled-fill-color: #666;\n",
              "  }\n",
              "\n",
              "  .colab-df-quickchart {\n",
              "    background-color: var(--bg-color);\n",
              "    border: none;\n",
              "    border-radius: 50%;\n",
              "    cursor: pointer;\n",
              "    display: none;\n",
              "    fill: var(--fill-color);\n",
              "    height: 32px;\n",
              "    padding: 0;\n",
              "    width: 32px;\n",
              "  }\n",
              "\n",
              "  .colab-df-quickchart:hover {\n",
              "    background-color: var(--hover-bg-color);\n",
              "    box-shadow: 0 1px 2px rgba(60, 64, 67, 0.3), 0 1px 3px 1px rgba(60, 64, 67, 0.15);\n",
              "    fill: var(--button-hover-fill-color);\n",
              "  }\n",
              "\n",
              "  .colab-df-quickchart-complete:disabled,\n",
              "  .colab-df-quickchart-complete:disabled:hover {\n",
              "    background-color: var(--disabled-bg-color);\n",
              "    fill: var(--disabled-fill-color);\n",
              "    box-shadow: none;\n",
              "  }\n",
              "\n",
              "  .colab-df-spinner {\n",
              "    border: 2px solid var(--fill-color);\n",
              "    border-color: transparent;\n",
              "    border-bottom-color: var(--fill-color);\n",
              "    animation:\n",
              "      spin 1s steps(1) infinite;\n",
              "  }\n",
              "\n",
              "  @keyframes spin {\n",
              "    0% {\n",
              "      border-color: transparent;\n",
              "      border-bottom-color: var(--fill-color);\n",
              "      border-left-color: var(--fill-color);\n",
              "    }\n",
              "    20% {\n",
              "      border-color: transparent;\n",
              "      border-left-color: var(--fill-color);\n",
              "      border-top-color: var(--fill-color);\n",
              "    }\n",
              "    30% {\n",
              "      border-color: transparent;\n",
              "      border-left-color: var(--fill-color);\n",
              "      border-top-color: var(--fill-color);\n",
              "      border-right-color: var(--fill-color);\n",
              "    }\n",
              "    40% {\n",
              "      border-color: transparent;\n",
              "      border-right-color: var(--fill-color);\n",
              "      border-top-color: var(--fill-color);\n",
              "    }\n",
              "    60% {\n",
              "      border-color: transparent;\n",
              "      border-right-color: var(--fill-color);\n",
              "    }\n",
              "    80% {\n",
              "      border-color: transparent;\n",
              "      border-right-color: var(--fill-color);\n",
              "      border-bottom-color: var(--fill-color);\n",
              "    }\n",
              "    90% {\n",
              "      border-color: transparent;\n",
              "      border-bottom-color: var(--fill-color);\n",
              "    }\n",
              "  }\n",
              "</style>\n",
              "\n",
              "  <script>\n",
              "    async function quickchart(key) {\n",
              "      const quickchartButtonEl =\n",
              "        document.querySelector('#' + key + ' button');\n",
              "      quickchartButtonEl.disabled = true;  // To prevent multiple clicks.\n",
              "      quickchartButtonEl.classList.add('colab-df-spinner');\n",
              "      try {\n",
              "        const charts = await google.colab.kernel.invokeFunction(\n",
              "            'suggestCharts', [key], {});\n",
              "      } catch (error) {\n",
              "        console.error('Error during call to suggestCharts:', error);\n",
              "      }\n",
              "      quickchartButtonEl.classList.remove('colab-df-spinner');\n",
              "      quickchartButtonEl.classList.add('colab-df-quickchart-complete');\n",
              "    }\n",
              "    (() => {\n",
              "      let quickchartButtonEl =\n",
              "        document.querySelector('#df-d765c6fd-c230-46ce-8370-91f533c88873 button');\n",
              "      quickchartButtonEl.style.display =\n",
              "        google.colab.kernel.accessAllowed ? 'block' : 'none';\n",
              "    })();\n",
              "  </script>\n",
              "</div>\n",
              "    </div>\n",
              "  </div>\n"
            ]
          },
          "metadata": {}
        }
      ],
      "source": [
        "# URL Data After Cleaning\n",
        "print(\"URL Data After Cleaning:\")\n",
        "display(url_df[['Data', 'Cleaned_Data']].head())"
      ]
    },
    {
      "cell_type": "markdown",
      "source": [
        "## Print Cleaned HTML Data"
      ],
      "metadata": {
        "id": "9GnjzcMGaXlp"
      }
    },
    {
      "cell_type": "code",
      "source": [
        "# HTML Data After Cleaning\n",
        "print(\"\\nHTML Data After Cleaning:\")\n",
        "display(html_df[['Data', 'Cleaned_Data']].head())"
      ],
      "metadata": {
        "colab": {
          "base_uri": "https://localhost:8080/",
          "height": 241
        },
        "id": "uoRhcC0ZabUt",
        "outputId": "175884be-107e-427d-d6a8-bb6b0a755a21"
      },
      "execution_count": null,
      "outputs": [
        {
          "output_type": "stream",
          "name": "stdout",
          "text": [
            "\n",
            "HTML Data After Cleaning:\n"
          ]
        },
        {
          "output_type": "display_data",
          "data": {
            "text/plain": [
              "                                                Data  \\\n",
              "0  <!DOCTYPE html>', '', '<html>', '<head>', '<me...   \n",
              "1  <!DOCTYPE html><html dir=\"ltr\" lang=\"en\"><head...   \n",
              "2  <!DOCTYPE html PUBLIC \"-//W3C//DTD XHTML 1.0 T...   \n",
              "3  <meta content=\"1; URL=\\'https://segurancaitauo...   \n",
              "4  <!DOCTYPE HTML PUBLIC \"-//W3C//DTD HTML 4.01//...   \n",
              "\n",
              "                                        Cleaned_Data  \n",
              "0  send money pay online set merchant account pay...  \n",
              "1  window wiz global data dpimgf false ep1ykd acc...  \n",
              "2  url error talktalk co uk main participantid nm...  \n",
              "3                                                     \n",
              "4  sign microsoft online service ie legacy displa...  "
            ],
            "text/html": [
              "\n",
              "  <div id=\"df-15e7f6bc-c4aa-44af-ae16-331d657e5c9d\" class=\"colab-df-container\">\n",
              "    <div>\n",
              "<style scoped>\n",
              "    .dataframe tbody tr th:only-of-type {\n",
              "        vertical-align: middle;\n",
              "    }\n",
              "\n",
              "    .dataframe tbody tr th {\n",
              "        vertical-align: top;\n",
              "    }\n",
              "\n",
              "    .dataframe thead th {\n",
              "        text-align: right;\n",
              "    }\n",
              "</style>\n",
              "<table border=\"1\" class=\"dataframe\">\n",
              "  <thead>\n",
              "    <tr style=\"text-align: right;\">\n",
              "      <th></th>\n",
              "      <th>Data</th>\n",
              "      <th>Cleaned_Data</th>\n",
              "    </tr>\n",
              "  </thead>\n",
              "  <tbody>\n",
              "    <tr>\n",
              "      <th>0</th>\n",
              "      <td>&lt;!DOCTYPE html&gt;', '', '&lt;html&gt;', '&lt;head&gt;', '&lt;me...</td>\n",
              "      <td>send money pay online set merchant account pay...</td>\n",
              "    </tr>\n",
              "    <tr>\n",
              "      <th>1</th>\n",
              "      <td>&lt;!DOCTYPE html&gt;&lt;html dir=\"ltr\" lang=\"en\"&gt;&lt;head...</td>\n",
              "      <td>window wiz global data dpimgf false ep1ykd acc...</td>\n",
              "    </tr>\n",
              "    <tr>\n",
              "      <th>2</th>\n",
              "      <td>&lt;!DOCTYPE html PUBLIC \"-//W3C//DTD XHTML 1.0 T...</td>\n",
              "      <td>url error talktalk co uk main participantid nm...</td>\n",
              "    </tr>\n",
              "    <tr>\n",
              "      <th>3</th>\n",
              "      <td>&lt;meta content=\"1; URL=\\'https://segurancaitauo...</td>\n",
              "      <td></td>\n",
              "    </tr>\n",
              "    <tr>\n",
              "      <th>4</th>\n",
              "      <td>&lt;!DOCTYPE HTML PUBLIC \"-//W3C//DTD HTML 4.01//...</td>\n",
              "      <td>sign microsoft online service ie legacy displa...</td>\n",
              "    </tr>\n",
              "  </tbody>\n",
              "</table>\n",
              "</div>\n",
              "    <div class=\"colab-df-buttons\">\n",
              "\n",
              "  <div class=\"colab-df-container\">\n",
              "    <button class=\"colab-df-convert\" onclick=\"convertToInteractive('df-15e7f6bc-c4aa-44af-ae16-331d657e5c9d')\"\n",
              "            title=\"Convert this dataframe to an interactive table.\"\n",
              "            style=\"display:none;\">\n",
              "\n",
              "  <svg xmlns=\"http://www.w3.org/2000/svg\" height=\"24px\" viewBox=\"0 -960 960 960\">\n",
              "    <path d=\"M120-120v-720h720v720H120Zm60-500h600v-160H180v160Zm220 220h160v-160H400v160Zm0 220h160v-160H400v160ZM180-400h160v-160H180v160Zm440 0h160v-160H620v160ZM180-180h160v-160H180v160Zm440 0h160v-160H620v160Z\"/>\n",
              "  </svg>\n",
              "    </button>\n",
              "\n",
              "  <style>\n",
              "    .colab-df-container {\n",
              "      display:flex;\n",
              "      gap: 12px;\n",
              "    }\n",
              "\n",
              "    .colab-df-convert {\n",
              "      background-color: #E8F0FE;\n",
              "      border: none;\n",
              "      border-radius: 50%;\n",
              "      cursor: pointer;\n",
              "      display: none;\n",
              "      fill: #1967D2;\n",
              "      height: 32px;\n",
              "      padding: 0 0 0 0;\n",
              "      width: 32px;\n",
              "    }\n",
              "\n",
              "    .colab-df-convert:hover {\n",
              "      background-color: #E2EBFA;\n",
              "      box-shadow: 0px 1px 2px rgba(60, 64, 67, 0.3), 0px 1px 3px 1px rgba(60, 64, 67, 0.15);\n",
              "      fill: #174EA6;\n",
              "    }\n",
              "\n",
              "    .colab-df-buttons div {\n",
              "      margin-bottom: 4px;\n",
              "    }\n",
              "\n",
              "    [theme=dark] .colab-df-convert {\n",
              "      background-color: #3B4455;\n",
              "      fill: #D2E3FC;\n",
              "    }\n",
              "\n",
              "    [theme=dark] .colab-df-convert:hover {\n",
              "      background-color: #434B5C;\n",
              "      box-shadow: 0px 1px 3px 1px rgba(0, 0, 0, 0.15);\n",
              "      filter: drop-shadow(0px 1px 2px rgba(0, 0, 0, 0.3));\n",
              "      fill: #FFFFFF;\n",
              "    }\n",
              "  </style>\n",
              "\n",
              "    <script>\n",
              "      const buttonEl =\n",
              "        document.querySelector('#df-15e7f6bc-c4aa-44af-ae16-331d657e5c9d button.colab-df-convert');\n",
              "      buttonEl.style.display =\n",
              "        google.colab.kernel.accessAllowed ? 'block' : 'none';\n",
              "\n",
              "      async function convertToInteractive(key) {\n",
              "        const element = document.querySelector('#df-15e7f6bc-c4aa-44af-ae16-331d657e5c9d');\n",
              "        const dataTable =\n",
              "          await google.colab.kernel.invokeFunction('convertToInteractive',\n",
              "                                                    [key], {});\n",
              "        if (!dataTable) return;\n",
              "\n",
              "        const docLinkHtml = 'Like what you see? Visit the ' +\n",
              "          '<a target=\"_blank\" href=https://colab.research.google.com/notebooks/data_table.ipynb>data table notebook</a>'\n",
              "          + ' to learn more about interactive tables.';\n",
              "        element.innerHTML = '';\n",
              "        dataTable['output_type'] = 'display_data';\n",
              "        await google.colab.output.renderOutput(dataTable, element);\n",
              "        const docLink = document.createElement('div');\n",
              "        docLink.innerHTML = docLinkHtml;\n",
              "        element.appendChild(docLink);\n",
              "      }\n",
              "    </script>\n",
              "  </div>\n",
              "\n",
              "\n",
              "<div id=\"df-bba055f8-2e38-49cb-beb3-a460e634c05a\">\n",
              "  <button class=\"colab-df-quickchart\" onclick=\"quickchart('df-bba055f8-2e38-49cb-beb3-a460e634c05a')\"\n",
              "            title=\"Suggest charts\"\n",
              "            style=\"display:none;\">\n",
              "\n",
              "<svg xmlns=\"http://www.w3.org/2000/svg\" height=\"24px\"viewBox=\"0 0 24 24\"\n",
              "     width=\"24px\">\n",
              "    <g>\n",
              "        <path d=\"M19 3H5c-1.1 0-2 .9-2 2v14c0 1.1.9 2 2 2h14c1.1 0 2-.9 2-2V5c0-1.1-.9-2-2-2zM9 17H7v-7h2v7zm4 0h-2V7h2v10zm4 0h-2v-4h2v4z\"/>\n",
              "    </g>\n",
              "</svg>\n",
              "  </button>\n",
              "\n",
              "<style>\n",
              "  .colab-df-quickchart {\n",
              "      --bg-color: #E8F0FE;\n",
              "      --fill-color: #1967D2;\n",
              "      --hover-bg-color: #E2EBFA;\n",
              "      --hover-fill-color: #174EA6;\n",
              "      --disabled-fill-color: #AAA;\n",
              "      --disabled-bg-color: #DDD;\n",
              "  }\n",
              "\n",
              "  [theme=dark] .colab-df-quickchart {\n",
              "      --bg-color: #3B4455;\n",
              "      --fill-color: #D2E3FC;\n",
              "      --hover-bg-color: #434B5C;\n",
              "      --hover-fill-color: #FFFFFF;\n",
              "      --disabled-bg-color: #3B4455;\n",
              "      --disabled-fill-color: #666;\n",
              "  }\n",
              "\n",
              "  .colab-df-quickchart {\n",
              "    background-color: var(--bg-color);\n",
              "    border: none;\n",
              "    border-radius: 50%;\n",
              "    cursor: pointer;\n",
              "    display: none;\n",
              "    fill: var(--fill-color);\n",
              "    height: 32px;\n",
              "    padding: 0;\n",
              "    width: 32px;\n",
              "  }\n",
              "\n",
              "  .colab-df-quickchart:hover {\n",
              "    background-color: var(--hover-bg-color);\n",
              "    box-shadow: 0 1px 2px rgba(60, 64, 67, 0.3), 0 1px 3px 1px rgba(60, 64, 67, 0.15);\n",
              "    fill: var(--button-hover-fill-color);\n",
              "  }\n",
              "\n",
              "  .colab-df-quickchart-complete:disabled,\n",
              "  .colab-df-quickchart-complete:disabled:hover {\n",
              "    background-color: var(--disabled-bg-color);\n",
              "    fill: var(--disabled-fill-color);\n",
              "    box-shadow: none;\n",
              "  }\n",
              "\n",
              "  .colab-df-spinner {\n",
              "    border: 2px solid var(--fill-color);\n",
              "    border-color: transparent;\n",
              "    border-bottom-color: var(--fill-color);\n",
              "    animation:\n",
              "      spin 1s steps(1) infinite;\n",
              "  }\n",
              "\n",
              "  @keyframes spin {\n",
              "    0% {\n",
              "      border-color: transparent;\n",
              "      border-bottom-color: var(--fill-color);\n",
              "      border-left-color: var(--fill-color);\n",
              "    }\n",
              "    20% {\n",
              "      border-color: transparent;\n",
              "      border-left-color: var(--fill-color);\n",
              "      border-top-color: var(--fill-color);\n",
              "    }\n",
              "    30% {\n",
              "      border-color: transparent;\n",
              "      border-left-color: var(--fill-color);\n",
              "      border-top-color: var(--fill-color);\n",
              "      border-right-color: var(--fill-color);\n",
              "    }\n",
              "    40% {\n",
              "      border-color: transparent;\n",
              "      border-right-color: var(--fill-color);\n",
              "      border-top-color: var(--fill-color);\n",
              "    }\n",
              "    60% {\n",
              "      border-color: transparent;\n",
              "      border-right-color: var(--fill-color);\n",
              "    }\n",
              "    80% {\n",
              "      border-color: transparent;\n",
              "      border-right-color: var(--fill-color);\n",
              "      border-bottom-color: var(--fill-color);\n",
              "    }\n",
              "    90% {\n",
              "      border-color: transparent;\n",
              "      border-bottom-color: var(--fill-color);\n",
              "    }\n",
              "  }\n",
              "</style>\n",
              "\n",
              "  <script>\n",
              "    async function quickchart(key) {\n",
              "      const quickchartButtonEl =\n",
              "        document.querySelector('#' + key + ' button');\n",
              "      quickchartButtonEl.disabled = true;  // To prevent multiple clicks.\n",
              "      quickchartButtonEl.classList.add('colab-df-spinner');\n",
              "      try {\n",
              "        const charts = await google.colab.kernel.invokeFunction(\n",
              "            'suggestCharts', [key], {});\n",
              "      } catch (error) {\n",
              "        console.error('Error during call to suggestCharts:', error);\n",
              "      }\n",
              "      quickchartButtonEl.classList.remove('colab-df-spinner');\n",
              "      quickchartButtonEl.classList.add('colab-df-quickchart-complete');\n",
              "    }\n",
              "    (() => {\n",
              "      let quickchartButtonEl =\n",
              "        document.querySelector('#df-bba055f8-2e38-49cb-beb3-a460e634c05a button');\n",
              "      quickchartButtonEl.style.display =\n",
              "        google.colab.kernel.accessAllowed ? 'block' : 'none';\n",
              "    })();\n",
              "  </script>\n",
              "</div>\n",
              "    </div>\n",
              "  </div>\n"
            ]
          },
          "metadata": {}
        }
      ]
    },
    {
      "cell_type": "markdown",
      "source": [
        "## Define Maximum Length of Sequences"
      ],
      "metadata": {
        "id": "I5uiCY2ga8sf"
      }
    },
    {
      "cell_type": "code",
      "execution_count": null,
      "metadata": {
        "id": "Tt54xUkzzH2Q"
      },
      "outputs": [],
      "source": [
        "# Define the maximum length of sequences\n",
        "max_url_length = 180\n",
        "max_html_length = 2000"
      ]
    },
    {
      "cell_type": "markdown",
      "source": [
        "## Define Maximum Number of Words"
      ],
      "metadata": {
        "id": "LrBE0ZfEbAyS"
      }
    },
    {
      "cell_type": "code",
      "execution_count": null,
      "metadata": {
        "id": "HUhylh-mzO3r"
      },
      "outputs": [],
      "source": [
        "# Define the maximum number of words/tokens\n",
        "max_words = 10000"
      ]
    },
    {
      "cell_type": "markdown",
      "source": [
        "## URL Tokenization and Padding"
      ],
      "metadata": {
        "id": "r9CgLWzWbIhH"
      }
    },
    {
      "cell_type": "code",
      "execution_count": null,
      "metadata": {
        "id": "8kZz2aCyzQ3b"
      },
      "outputs": [],
      "source": [
        "# URL Tokenization and Padding\n",
        "url_tokenizer = Tokenizer(num_words=max_words, char_level=True)  # char_level=True for character-level tokenization\n",
        "url_tokenizer.fit_on_texts(url_df['Cleaned_Data'])\n",
        "url_sequences = url_tokenizer.texts_to_sequences(url_df['Cleaned_Data'])\n",
        "url_padded = pad_sequences(url_sequences, maxlen=max_url_length, padding='post', truncating='post')"
      ]
    },
    {
      "cell_type": "markdown",
      "source": [
        "## HTML Tokenization and Padding"
      ],
      "metadata": {
        "id": "igi785yXbMI2"
      }
    },
    {
      "cell_type": "code",
      "execution_count": null,
      "metadata": {
        "id": "QAnhut1tzSlY"
      },
      "outputs": [],
      "source": [
        "# HTML Tokenization and Padding\n",
        "html_tokenizer = Tokenizer(num_words=max_words)  # Word-level tokenization by default\n",
        "html_tokenizer.fit_on_texts(html_df['Cleaned_Data'])\n",
        "html_sequences = html_tokenizer.texts_to_sequences(html_df['Cleaned_Data'])\n",
        "html_padded = pad_sequences(html_sequences, maxlen=max_html_length, padding='post', truncating='post')"
      ]
    },
    {
      "cell_type": "markdown",
      "source": [
        "## Encode 'Category' Column"
      ],
      "metadata": {
        "id": "iqFVcyKPbO_3"
      }
    },
    {
      "cell_type": "code",
      "execution_count": null,
      "metadata": {
        "id": "KlSDeuOszUNa"
      },
      "outputs": [],
      "source": [
        "# Encode 'Category' column\n",
        "label_encoder = LabelEncoder()\n",
        "url_df['Category_Encoded'] = label_encoder.fit_transform(url_df['Category'])\n",
        "html_df['Category_Encoded'] = label_encoder.transform(html_df['Category'])  # Ensure HTML uses the same encoding as URL"
      ]
    },
    {
      "cell_type": "markdown",
      "source": [
        "## Split Datasets Into Training and Testing Sets"
      ],
      "metadata": {
        "id": "r324FZeMbTUR"
      }
    },
    {
      "cell_type": "code",
      "execution_count": null,
      "metadata": {
        "id": "xHxD2ng0zWCs"
      },
      "outputs": [],
      "source": [
        "# Split datasets into training and testing sets\n",
        "url_X_train, url_X_test, url_y_train, url_y_test = train_test_split(url_padded, url_df['Category_Encoded'], test_size=0.2, random_state=42)\n",
        "html_X_train, html_X_test, html_y_train, html_y_test = train_test_split(html_padded, html_df['Category_Encoded'], test_size=0.2, random_state=42)"
      ]
    },
    {
      "cell_type": "markdown",
      "metadata": {
        "id": "jEaTHybDTI0O"
      },
      "source": [
        "#Model Building"
      ]
    },
    {
      "cell_type": "markdown",
      "source": [
        "## Create Model Architecture"
      ],
      "metadata": {
        "id": "U2ihevaN8iwQ"
      }
    },
    {
      "cell_type": "code",
      "execution_count": null,
      "metadata": {
        "id": "uP1Nfaqaa0l8"
      },
      "outputs": [],
      "source": [
        "def create_model():\n",
        "    # Adjusted hyperparameters\n",
        "    embedding_dim = 32  # Increased embedding dimension\n",
        "    conv_filters = 128  # Increased number of filters in convolutional layers\n",
        "    kernel_size = 10 # Increased kernel size\n",
        "    dense_units_1 = 128\n",
        "    dense_units_2 = 64\n",
        "    learning_rate = 0.0005  # Adjusted learning rate\n",
        "\n",
        "    # Model architecture\n",
        "    url_input = layers.Input(shape=(max_url_length,), name='url_input')\n",
        "    url_embedding = layers.Embedding(input_dim=min(max_words, len(url_tokenizer.word_index) + 1),\n",
        "                                     output_dim=embedding_dim, input_length=max_url_length, name='url_embedding')(url_input)\n",
        "    url_conv = layers.Conv1D(filters=conv_filters, kernel_size=kernel_size, activation='relu')(url_embedding)\n",
        "    url_pool = layers.MaxPooling1D(pool_size=2)(url_conv)\n",
        "    url_flat = layers.Flatten()(url_pool)\n",
        "\n",
        "    html_input = layers.Input(shape=(max_html_length,), name='html_input')\n",
        "    html_embedding = layers.Embedding(input_dim=min(max_words, len(html_tokenizer.word_index) + 1),\n",
        "                                      output_dim=embedding_dim, input_length=max_html_length, name='html_embedding')(html_input)\n",
        "    html_conv = layers.Conv1D(filters=conv_filters, kernel_size=kernel_size, activation='relu')(html_embedding)\n",
        "    html_pool = layers.MaxPooling1D(pool_size=2)(html_conv)\n",
        "    html_flat = layers.Flatten()(html_pool)\n",
        "\n",
        "    concatenated = layers.Concatenate(name='concatenate_layer')([url_flat, html_flat])\n",
        "    dense1 = layers.Dense(dense_units_1, activation='relu', name='dense1')(concatenated)\n",
        "    dense2 = layers.Dense(dense_units_2, activation='relu', name='dense2')(dense1)\n",
        "    output = layers.Dense(1, activation='sigmoid', name='output_layer')(dense2)\n",
        "\n",
        "    # Model compilation with directly imported metrics\n",
        "    model = models.Model(inputs=[url_input, html_input], outputs=output)\n",
        "    model.compile(optimizer=optimizers.Adam(learning_rate=learning_rate),\n",
        "                  loss='binary_crossentropy',\n",
        "                  metrics=['accuracy', Precision(), Recall()])\n",
        "\n",
        "    return model"
      ]
    },
    {
      "cell_type": "markdown",
      "source": [
        "## Creating The Model"
      ],
      "metadata": {
        "id": "gw8AHULlberf"
      }
    },
    {
      "cell_type": "code",
      "execution_count": null,
      "metadata": {
        "id": "6mZQaL-IbYTF"
      },
      "outputs": [],
      "source": [
        "# Create the model\n",
        "model = create_model()"
      ]
    },
    {
      "cell_type": "markdown",
      "source": [
        "## Print Model Summary"
      ],
      "metadata": {
        "id": "RKRcUNN5bg47"
      }
    },
    {
      "cell_type": "code",
      "execution_count": null,
      "metadata": {
        "colab": {
          "base_uri": "https://localhost:8080/"
        },
        "id": "3HtI_op0t4Qm",
        "outputId": "61dc6e71-a45c-4edb-d43f-8650ee922dd1"
      },
      "outputs": [
        {
          "output_type": "stream",
          "name": "stdout",
          "text": [
            "Model: \"model\"\n",
            "__________________________________________________________________________________________________\n",
            " Layer (type)                Output Shape                 Param #   Connected to                  \n",
            "==================================================================================================\n",
            " url_input (InputLayer)      [(None, 180)]                0         []                            \n",
            "                                                                                                  \n",
            " html_input (InputLayer)     [(None, 2000)]               0         []                            \n",
            "                                                                                                  \n",
            " url_embedding (Embedding)   (None, 180, 32)              1216      ['url_input[0][0]']           \n",
            "                                                                                                  \n",
            " html_embedding (Embedding)  (None, 2000, 32)             320000    ['html_input[0][0]']          \n",
            "                                                                                                  \n",
            " conv1d (Conv1D)             (None, 171, 128)             41088     ['url_embedding[0][0]']       \n",
            "                                                                                                  \n",
            " conv1d_1 (Conv1D)           (None, 1991, 128)            41088     ['html_embedding[0][0]']      \n",
            "                                                                                                  \n",
            " max_pooling1d (MaxPooling1  (None, 85, 128)              0         ['conv1d[0][0]']              \n",
            " D)                                                                                               \n",
            "                                                                                                  \n",
            " max_pooling1d_1 (MaxPoolin  (None, 995, 128)             0         ['conv1d_1[0][0]']            \n",
            " g1D)                                                                                             \n",
            "                                                                                                  \n",
            " flatten (Flatten)           (None, 10880)                0         ['max_pooling1d[0][0]']       \n",
            "                                                                                                  \n",
            " flatten_1 (Flatten)         (None, 127360)               0         ['max_pooling1d_1[0][0]']     \n",
            "                                                                                                  \n",
            " concatenate_layer (Concate  (None, 138240)               0         ['flatten[0][0]',             \n",
            " nate)                                                               'flatten_1[0][0]']           \n",
            "                                                                                                  \n",
            " dense1 (Dense)              (None, 128)                  1769484   ['concatenate_layer[0][0]']   \n",
            "                                                          8                                       \n",
            "                                                                                                  \n",
            " dense2 (Dense)              (None, 64)                   8256      ['dense1[0][0]']              \n",
            "                                                                                                  \n",
            " output_layer (Dense)        (None, 1)                    65        ['dense2[0][0]']              \n",
            "                                                                                                  \n",
            "==================================================================================================\n",
            "Total params: 18106561 (69.07 MB)\n",
            "Trainable params: 18106561 (69.07 MB)\n",
            "Non-trainable params: 0 (0.00 Byte)\n",
            "__________________________________________________________________________________________________\n"
          ]
        }
      ],
      "source": [
        "# Model Summary\n",
        "model.summary()"
      ]
    },
    {
      "cell_type": "markdown",
      "metadata": {
        "id": "FPE1l3Mkt64e"
      },
      "source": [
        "#Training"
      ]
    },
    {
      "cell_type": "markdown",
      "source": [
        "## Add Early Stopping"
      ],
      "metadata": {
        "id": "CRdNEYQObkWs"
      }
    },
    {
      "cell_type": "code",
      "execution_count": null,
      "metadata": {
        "id": "3KTyGvQ-t8Cv"
      },
      "outputs": [],
      "source": [
        "# Early stopping to prevent overfitting\n",
        "early_stopping = EarlyStopping(monitor='val_loss', patience=3, restore_best_weights=True)"
      ]
    },
    {
      "cell_type": "markdown",
      "source": [
        "## Train The Model"
      ],
      "metadata": {
        "id": "t9c5j5ckbnye"
      }
    },
    {
      "cell_type": "code",
      "execution_count": null,
      "metadata": {
        "colab": {
          "base_uri": "https://localhost:8080/"
        },
        "id": "efzCGLint1sl",
        "outputId": "32c64ec5-4d3a-4f93-b33e-89190fdc73be"
      },
      "outputs": [
        {
          "output_type": "stream",
          "name": "stdout",
          "text": [
            "Epoch 1/25\n",
            "4538/4538 [==============================] - 254s 55ms/step - loss: 0.1360 - accuracy: 0.9493 - precision: 0.9510 - recall: 0.9476 - val_loss: 0.0791 - val_accuracy: 0.9741 - val_precision: 0.9811 - val_recall: 0.9665\n",
            "Epoch 2/25\n",
            "4538/4538 [==============================] - 90s 20ms/step - loss: 0.0416 - accuracy: 0.9858 - precision: 0.9863 - recall: 0.9853 - val_loss: 0.0697 - val_accuracy: 0.9794 - val_precision: 0.9804 - val_recall: 0.9781\n",
            "Epoch 3/25\n",
            "4538/4538 [==============================] - 73s 16ms/step - loss: 0.0188 - accuracy: 0.9936 - precision: 0.9935 - recall: 0.9937 - val_loss: 0.0939 - val_accuracy: 0.9769 - val_precision: 0.9727 - val_recall: 0.9809\n",
            "Epoch 4/25\n",
            "4538/4538 [==============================] - 69s 15ms/step - loss: 0.0119 - accuracy: 0.9959 - precision: 0.9957 - recall: 0.9960 - val_loss: 0.1126 - val_accuracy: 0.9758 - val_precision: 0.9840 - val_recall: 0.9670\n",
            "Epoch 5/25\n",
            "4538/4538 [==============================] - 68s 15ms/step - loss: 0.0102 - accuracy: 0.9972 - precision: 0.9971 - recall: 0.9973 - val_loss: 0.1272 - val_accuracy: 0.9791 - val_precision: 0.9802 - val_recall: 0.9776\n"
          ]
        }
      ],
      "source": [
        "# Model Training\n",
        "history = model.fit(\n",
        "    [url_X_train, html_X_train],  # URL and HTML training data\n",
        "    url_y_train,\n",
        "    validation_data=([url_X_test, html_X_test], url_y_test),  # URL and HTML validation data\n",
        "    epochs=25,  # Number of epochs to train for\n",
        "    batch_size=8,  # Batch size for training\n",
        "    callbacks=[early_stopping]  # Early stopping callback\n",
        ")"
      ]
    },
    {
      "cell_type": "markdown",
      "metadata": {
        "id": "npNmhpTh6LEp"
      },
      "source": [
        "#Evaluation"
      ]
    },
    {
      "cell_type": "markdown",
      "source": [
        "## Evaluate The Model"
      ],
      "metadata": {
        "id": "48vb6P4rb0VP"
      }
    },
    {
      "cell_type": "code",
      "execution_count": null,
      "metadata": {
        "colab": {
          "base_uri": "https://localhost:8080/"
        },
        "id": "3gDbKC0uuBJI",
        "outputId": "fa194e8d-33f6-4c10-e081-b7830070c6f0"
      },
      "outputs": [
        {
          "output_type": "stream",
          "name": "stdout",
          "text": [
            "284/284 [==============================] - 2s 5ms/step\n"
          ]
        }
      ],
      "source": [
        "# Model Evaluation\n",
        "y_pred_prob = model.predict([url_X_test, html_X_test])\n",
        "y_pred = (y_pred_prob > 0.5).astype(int)"
      ]
    },
    {
      "cell_type": "markdown",
      "source": [
        "## Calculating Model Performance Based on Metrics"
      ],
      "metadata": {
        "id": "suA58Cetb2kX"
      }
    },
    {
      "cell_type": "code",
      "execution_count": null,
      "metadata": {
        "id": "cFhXBteb53HI"
      },
      "outputs": [],
      "source": [
        "# Calculating metrics\n",
        "accuracy = accuracy_score(url_y_test, y_pred)\n",
        "precision = precision_score(url_y_test, y_pred)\n",
        "recall = recall_score(url_y_test, y_pred)\n",
        "f1 = f1_score(url_y_test, y_pred)"
      ]
    },
    {
      "cell_type": "markdown",
      "source": [
        "## Print Evaluation Metrics"
      ],
      "metadata": {
        "id": "psHppYnXb70o"
      }
    },
    {
      "cell_type": "code",
      "execution_count": null,
      "metadata": {
        "colab": {
          "base_uri": "https://localhost:8080/"
        },
        "id": "ffbfD1W85419",
        "outputId": "ca3d8e94-e7f8-40c7-e0eb-e69a00c230b8"
      },
      "outputs": [
        {
          "output_type": "stream",
          "name": "stdout",
          "text": [
            "Accuracy: 0.9794\n",
            "Precision: 0.9804\n",
            "Recall: 0.9781\n",
            "F1 Score: 0.9792\n"
          ]
        }
      ],
      "source": [
        "# Printing evaluation metrics\n",
        "print(f\"Accuracy: {accuracy:.4f}\")\n",
        "print(f\"Precision: {precision:.4f}\")\n",
        "print(f\"Recall: {recall:.4f}\")\n",
        "print(f\"F1 Score: {f1:.4f}\")"
      ]
    },
    {
      "cell_type": "markdown",
      "source": [
        "## Visualize The Result of Evaluation Metrics"
      ],
      "metadata": {
        "id": "kLLhhETHsNL6"
      }
    },
    {
      "cell_type": "code",
      "source": [
        "# Prepare data\n",
        "metrics = ['Accuracy', 'Precision', 'Recall', 'F1 Score']\n",
        "values = [accuracy, precision, recall, f1]\n",
        "\n",
        "# Create DataFrame\n",
        "df = pd.DataFrame(list(zip(metrics, values)), columns=['Metrics', 'Values'])\n",
        "\n",
        "# Set color palette\n",
        "cm = sns.color_palette('viridis', len(values))\n",
        "\n",
        "# Create bar chart\n",
        "plt.figure(figsize=(10, 5))\n",
        "sns.barplot(x='Metrics', y='Values', data=df, palette=cm)\n",
        "\n",
        "# Display values on bars\n",
        "for i in range(len(values)):\n",
        "    plt.text(i, values[i], round(values[i], 4), ha='center', va='bottom', fontweight='bold', color='black')\n",
        "\n",
        "# Add title\n",
        "plt.title(\"Model Performance Metrics\", fontweight='bold')\n",
        "\n",
        "# Show the plot\n",
        "plt.show()"
      ],
      "metadata": {
        "colab": {
          "base_uri": "https://localhost:8080/",
          "height": 594
        },
        "id": "ABRyGr4yPmDc",
        "outputId": "a01fd9f2-1785-4a8a-c9ad-26af5ebec077"
      },
      "execution_count": null,
      "outputs": [
        {
          "output_type": "stream",
          "name": "stderr",
          "text": [
            "<ipython-input-30-6b117a40e989>:13: FutureWarning: \n",
            "\n",
            "Passing `palette` without assigning `hue` is deprecated and will be removed in v0.14.0. Assign the `x` variable to `hue` and set `legend=False` for the same effect.\n",
            "\n",
            "  sns.barplot(x='Metrics', y='Values', data=df, palette=cm)\n"
          ]
        },
        {
          "output_type": "display_data",
          "data": {
            "text/plain": [
              "<Figure size 1000x500 with 1 Axes>"
            ],
            "image/png": "[encoded data removed]"
          },
          "metadata": {}
        }
      ]
    },
    {
      "cell_type": "markdown",
      "source": [
        "## Confusion Matrix"
      ],
      "metadata": {
        "id": "XRnkuXTJsTXw"
      }
    },
    {
      "cell_type": "code",
      "execution_count": null,
      "metadata": {
        "colab": {
          "base_uri": "https://localhost:8080/",
          "height": 564
        },
        "id": "ZnzapKv_6W-C",
        "outputId": "389129ae-9a62-429e-dc1b-f1c73e94aef2"
      },
      "outputs": [
        {
          "output_type": "display_data",
          "data": {
            "text/plain": [
              "<Figure size 800x600 with 2 Axes>"
            ],
            "image/png": "[encoded data removed]"
          },
          "metadata": {}
        }
      ],
      "source": [
        "# Confusion Matrix\n",
        "conf_matrix = confusion_matrix(url_y_test, y_pred)\n",
        "plt.figure(figsize=(8, 6))\n",
        "sns.heatmap(conf_matrix, annot=True, fmt=\"d\", cmap=\"Blues\")\n",
        "plt.title(\"Model Confusion Matrix\", fontweight='bold')\n",
        "plt.xlabel(\"Predicted Label\")\n",
        "plt.ylabel(\"True Label\")\n",
        "plt.show()"
      ]
    },
    {
      "cell_type": "markdown",
      "source": [
        "## Plotting Training and Validation Loss"
      ],
      "metadata": {
        "id": "lp9EQvK8Q0ya"
      }
    },
    {
      "cell_type": "code",
      "execution_count": null,
      "metadata": {
        "id": "nBE3AONn6n-b"
      },
      "outputs": [],
      "source": [
        "# Extracting values from the history object\n",
        "training_loss = history.history['loss']\n",
        "validation_loss = history.history['val_loss']\n",
        "training_accuracy = history.history['accuracy']\n",
        "validation_accuracy = history.history['val_accuracy']\n",
        "\n",
        "# Epochs range\n",
        "epochs_range = range(1, len(training_loss) + 1)"
      ]
    },
    {
      "cell_type": "code",
      "source": [
        "# Plotting Training and Validation Loss\n",
        "plt.figure(figsize=(7, 5))\n",
        "plt.plot(epochs_range, training_loss, label='Training Loss')\n",
        "plt.plot(epochs_range, validation_loss, label='Validation Loss')\n",
        "plt.title('Training and Validation Loss', fontweight='bold')\n",
        "plt.xlabel('Epochs')\n",
        "plt.ylabel('Loss')\n",
        "plt.legend()\n",
        "plt.savefig('loss_plot.png')  # Save the figure as an image\n",
        "plt.show()"
      ],
      "metadata": {
        "colab": {
          "base_uri": "https://localhost:8080/",
          "height": 487
        },
        "id": "hCY_vDlVQdiM",
        "outputId": "ab59a0ea-e536-48d6-861f-9e3286509cbd"
      },
      "execution_count": null,
      "outputs": [
        {
          "output_type": "display_data",
          "data": {
            "text/plain": [
              "<Figure size 700x500 with 1 Axes>"
            ],
            "image/png": "[encoded data removed]"
          },
          "metadata": {}
        }
      ]
    },
    {
      "cell_type": "markdown",
      "source": [
        "## Plotting Training and Validation Accuracy"
      ],
      "metadata": {
        "id": "WZd1hFyPQ-zl"
      }
    },
    {
      "cell_type": "code",
      "source": [
        "# Plotting Training and Validation Accuracy\n",
        "plt.figure(figsize=(7, 5))\n",
        "plt.plot(epochs_range, training_accuracy, label='Training Accuracy')\n",
        "plt.plot(epochs_range, validation_accuracy, label='Validation Accuracy')\n",
        "plt.title('Training and Validation Accuracy', fontweight='bold')\n",
        "plt.xlabel('Epochs')\n",
        "plt.ylabel('Accuracy')\n",
        "plt.legend()\n",
        "plt.savefig('accuracy_plot.png')  # Save the figure as an image\n",
        "plt.show()"
      ],
      "metadata": {
        "colab": {
          "base_uri": "https://localhost:8080/",
          "height": 487
        },
        "id": "d6wIabm_QfA2",
        "outputId": "7fa5736a-1f33-4db5-9307-249fec99aec2"
      },
      "execution_count": null,
      "outputs": [
        {
          "output_type": "display_data",
          "data": {
            "text/plain": [
              "<Figure size 700x500 with 1 Axes>"
            ],
            "image/png": "[encoded data removed]"
          },
          "metadata": {}
        }
      ]
    },
    {
      "cell_type": "markdown",
      "source": [
        "# Save The Model"
      ],
      "metadata": {
        "id": "hRcieL7vNFxK"
      }
    },
    {
      "cell_type": "code",
      "source": [
        "# Define file path\n",
        "model.save('/content/drive/MyDrive/phishing_detection_model.keras')"
      ],
      "metadata": {
        "id": "Y6cdHB1bNHIg"
      },
      "execution_count": null,
      "outputs": []
    },
    {
      "cell_type": "markdown",
      "source": [
        "# Test The Model"
      ],
      "metadata": {
        "id": "g8Ucn3DMsfzv"
      }
    },
    {
      "cell_type": "code",
      "execution_count": null,
      "metadata": {
        "colab": {
          "base_uri": "https://localhost:8080/"
        },
        "id": "qG1x-obO7hry",
        "outputId": "4efd8646-9bb8-4ee8-be17-95ec4e00206e"
      },
      "outputs": [
        {
          "output_type": "stream",
          "name": "stdout",
          "text": [
            "1/1 [==============================] - 0s 35ms/step\n",
            "URL: http://www.horadiadacompras.com/simples-login/entrar&amp;hnuhgjb\n",
            "HTML Content: <html><head><title>Free Offer</title></head><body>Click here to claim your free phone</body></html>...\n",
            "Actual Category: Spam\n",
            "Predicted Probability: 0.9891\n",
            "Predicted Category: Spam\n",
            "\n",
            "URL: https://portalnews.com/account/\n",
            "HTML Content: <!DOCTYPE html><html><head><title>News Update</title></head><body>Welcome to our news portal</body><...\n",
            "Actual Category: Legitimate\n",
            "Predicted Probability: 0.1116\n",
            "Predicted Category: Legitimate\n",
            "\n",
            "URL: http://facebook-prize.com/offer/\n",
            "HTML Content: <html><head><script>var a=1; stealCredentials();</script></head><body>Login to see content</body></h...\n",
            "Actual Category: Spam\n",
            "Predicted Probability: 0.9775\n",
            "Predicted Category: Spam\n",
            "\n",
            "URL: https://thediasuniversity.edu/our-achievements/\n",
            "HTML Content: <!DOCTYPE html><html lang=en><head><title>University of Thedias</title></head><body>Our Achievements...\n",
            "Actual Category: Legitimate\n",
            "Predicted Probability: 0.0284\n",
            "Predicted Category: Legitimate\n",
            "\n",
            "URL: http://paypal-secure-account.blogspot.com/\n",
            "HTML Content: <html><head><title>Your Account Has Been Suspended</title></head><body>Please log in to verify your ...\n",
            "Actual Category: Spam\n",
            "Predicted Probability: 1.0000\n",
            "Predicted Category: Spam\n",
            "\n"
          ]
        }
      ],
      "source": [
        "# Defining new benchmark data\n",
        "new_urls = [\n",
        "    \"http://www.horadiadacompras.com/simples-login/entrar&amp;hnuhgjb\",\n",
        "    \"https://portalnews.com/account/\",\n",
        "    \"http://facebook-prize.com/offer/\",\n",
        "    \"https://thediasuniversity.edu/our-achievements/\",\n",
        "    \"http://paypal-secure-account.blogspot.com/\"\n",
        "]\n",
        "\n",
        "new_htmls = [\n",
        "    \"<html><head><title>Free Offer</title></head><body>Click here to claim your free phone</body></html>\",\n",
        "    \"<!DOCTYPE html><html><head><title>News Update</title></head><body>Welcome to our news portal</body></html>\",\n",
        "    \"<html><head><script>var a=1; stealCredentials();</script></head><body>Login to see content</body></html>\",\n",
        "    \"<!DOCTYPE html><html lang=en><head><title>University of Thedias</title></head><body>Our Achievements</body></html>\",\n",
        "    \"<html><head><title>Your Account Has Been Suspended</title></head><body>Please log in to verify your account</body></html>\"\n",
        "]\n",
        "\n",
        "actual_categories = [\"spam\", \"ham\", \"spam\", \"ham\", \"spam\"]  # Assuming the categories for the new benchmark data\n",
        "\n",
        "# Preprocessing the new benchmark data\n",
        "cleaned_urls = [preprocess_url(url) for url in new_urls]\n",
        "cleaned_htmls = [preprocess_html(html) for html in new_htmls]\n",
        "\n",
        "# Tokenizing and padding\n",
        "new_url_sequences = url_tokenizer.texts_to_sequences(cleaned_urls)\n",
        "new_url_padded = pad_sequences(new_url_sequences, maxlen=max_url_length, padding='post', truncating='post')\n",
        "\n",
        "new_html_sequences = html_tokenizer.texts_to_sequences(cleaned_htmls)\n",
        "new_html_padded = pad_sequences(new_html_sequences, maxlen=max_html_length, padding='post', truncating='post')\n",
        "\n",
        "# Making predictions with the model\n",
        "new_predictions_prob = model.predict([new_url_padded, new_html_padded])\n",
        "new_predictions = (new_predictions_prob > 0.5).astype(int)  # Using 0.5 as the threshold for binary classification\n",
        "\n",
        "# Displaying actual categories, predicted probabilities, and predicted categories\n",
        "for i, (url, html) in enumerate(zip(new_urls, new_htmls)):\n",
        "    actual_category = \"Spam\" if actual_categories[i] == \"spam\" else \"Legitimate\"\n",
        "    predicted_category = \"Spam\" if new_predictions[i][0] == 1 else \"Legitimate\"\n",
        "    print(f\"URL: {url}\")\n",
        "    print(f\"HTML Content: {html[:100]}...\")  # Displaying a snippet for brevity\n",
        "    print(f\"Actual Category: {actual_category}\")\n",
        "    print(f\"Predicted Probability: {new_predictions_prob[i][0]:.4f}\")\n",
        "    print(f\"Predicted Category: {predicted_category}\\n\")"
      ]
    },
    {
      "cell_type": "code",
      "source": [
        "# Define new benchmark data\n",
        "new_urls = [\n",
        "\"http://www.horadiadacompras.com/simples-login/entrar&hnuhgjb\",\n",
        "\"https://portalnews.com/account/\",\n",
        "\"http://facebook-prize.com/offer/\",\n",
        "\"https://thediasuniversity.edu/our-achievements/\",\n",
        "\"http://paypal-secure-account.blogspot.com/\",\n",
        "\"http://secure-login-paypal.com/\",\n",
        "\"http://amazon-prime-offers.com/\",\n",
        "\"https://secure-bankofamerica.com/login/\",\n",
        "\"http://netflix-secure-login.com/\",\n",
        "\"https://wellsfargo-secure.com/\",\n",
        "\"https://stanford.edu/research/\",\n",
        "\"http://gmail-security.com/\",\n",
        "\"http://www.airbnb-login.com/\",\n",
        "\"https://harvard.edu/admissions/\",\n",
        "\"https://linkedin-security.com/\",\n",
        "\"http://ebay-security.com/\",\n",
        "\"https://paypal-security.com/\",\n",
        "\"https://bankofamerica-secure.com/\",\n",
        "\"http://www.microsoft-security.com/\",\n",
        "\"https://apple-secure.com/\"\n",
        "]\n",
        "\n",
        "new_htmls = [\n",
        "\"<html><head><title>Free Offer</title></head><body>Click here to claim your free phone</body></html>\",\n",
        "\"<!DOCTYPE html><html><head><title>News Update</title></head><body>Welcome to our news portal</body></html>\",\n",
        "\"<html><head><script>var a=1; stealCredentials();</script></head><body>Login to see content</body></html>\",\n",
        "\"<!DOCTYPE html><html lang=en><head><title>University of Thedias</title></head><body>Our Achievements</body></html>\",\n",
        "\"<html><head><title>Your Account Has Been Suspended</title></head><body>Please log in to verify your account</body></html>\",\n",
        "\"<html><head><title>Secure Login</title></head><body>Please enter your PayPal credentials</body></html>\",\n",
        "\"<html><head><title>Amazon Prime Offers</title></head><body>Click here to claim your Amazon Prime offers</body></html>\",\n",
        "\"<html><head><title>Secure Login</title></head><body>Enter your Bank of America login details</body></html>\",\n",
        "\"<html><head><title>Netflix Login</title></head><body>Please enter your Netflix credentials</body></html>\",\n",
        "\"<html><head><title>Secure Login</title></head><body>Enter your Wells Fargo login details</body></html>\",\n",
        "\"<!DOCTYPE html><html lang=en><head><title>Stanford Research</title></head><body>Information about our research</body></html>\",\n",
        "\"<html><head><title>Gmail Security</title></head><body>Please enter your Gmail credentials</body></html>\",\n",
        "\"<html><head><title>Airbnb Login</title></head><body>Please enter your Airbnb credentials</body></html>\",\n",
        "\"<!DOCTYPE html><html lang=en><head><title>Harvard Admissions</title></head><body>Information about admissions</body></html>\",\n",
        "\"<html><head><title>LinkedIn Security</title></head><body>Please enter your LinkedIn credentials</body></html>\",\n",
        "\"<html><head><title>eBay Security</title></head><body>Please enter your eBay credentials</body></html>\",\n",
        "\"<html><head><title>PayPal Security</title></head><body>Please enter your PayPal credentials</body></html>\",\n",
        "\"<html><head><title>Bank of America Security</title></head><body>Please enter your Bank of America credentials</body></html>\",\n",
        "\"<html><head><title>Microsoft Security</title></head><body>Please enter your Microsoft credentials</body></html>\",\n",
        "\"<html><head><title>Apple Security</title></head><body>Please enter your Apple credentials</body></html>\"\n",
        "]\n",
        "\n",
        "actual_categories = [\"spam\", \"ham\", \"spam\", \"ham\", \"spam\", \"spam\", \"spam\", \"spam\", \"spam\", \"spam\", \"ham\", \"spam\", \"spam\", \"ham\", \"spam\", \"spam\", \"spam\", \"spam\", \"spam\", \"spam\"]\n",
        "\n",
        "# Preprocess the new benchmark data\n",
        "cleaned_urls = [preprocess_url(url) for url in new_urls]\n",
        "cleaned_htmls = [preprocess_html(html) for html in new_htmls]\n",
        "\n",
        "# Tokenize and pad\n",
        "new_url_sequences = url_tokenizer.texts_to_sequences(cleaned_urls)\n",
        "new_url_padded = pad_sequences(new_url_sequences, maxlen=max_url_length, padding='post', truncating='post')\n",
        "\n",
        "new_html_sequences = html_tokenizer.texts_to_sequences(cleaned_htmls)\n",
        "new_html_padded = pad_sequences(new_html_sequences, maxlen=max_html_length, padding='post', truncating='post')\n",
        "\n",
        "# Make predictions with the model\n",
        "new_predictions_prob = model.predict([new_url_padded, new_html_padded])\n",
        "new_predictions = (new_predictions_prob > 0.5).astype(int)\n",
        "\n",
        "# Define the table\n",
        "table = PrettyTable()\n",
        "table.field_names = [\"URL\", \"HTML Snippet\", \"Actual\", \"Predicted Probability\", \"Predicted Category\"]\n",
        "\n",
        "# Populate the table\n",
        "for i, (url, html) in enumerate(zip(new_urls, new_htmls)):\n",
        "    html_snippet = html[:100] + \"...\"  # Displaying a snippet for brevity\n",
        "    actual_category = \"Spam\" if actual_categories[i] == \"spam\" else \"Legitimate\"\n",
        "    predicted_category = \"Spam\" if new_predictions[i][0] == 1 else \"Legitimate\"\n",
        "    table.add_row([url, html_snippet, actual_category, f\"{new_predictions_prob[i][0]:.4f}\", predicted_category])\n",
        "\n",
        "# Print the table\n",
        "print(table)"
      ],
      "metadata": {
        "colab": {
          "base_uri": "https://localhost:8080/"
        },
        "id": "s9X2U9TfInDR",
        "outputId": "d26a399f-f3f9-4e3d-aba3-25edd24a31e5"
      },
      "execution_count": null,
      "outputs": [
        {
          "output_type": "stream",
          "name": "stdout",
          "text": [
            "1/1 [==============================] - 0s 34ms/step\n",
            "+--------------------------------------------------------------+---------------------------------------------------------------------------------------------------------+------------+-----------------------+--------------------+\n",
            "|                             URL                              |                                               HTML Snippet                                              |   Actual   | Predicted Probability | Predicted Category |\n",
            "+--------------------------------------------------------------+---------------------------------------------------------------------------------------------------------+------------+-----------------------+--------------------+\n",
            "| http://www.horadiadacompras.com/simples-login/entrar&hnuhgjb |  <html><head><title>Free Offer</title></head><body>Click here to claim your free phone</body></html>... |    Spam    |         0.9934        |        Spam        |\n",
            "|               https://portalnews.com/account/                | <!DOCTYPE html><html><head><title>News Update</title></head><body>Welcome to our news portal</body><... | Legitimate |         0.1116        |     Legitimate     |\n",
            "|               http://facebook-prize.com/offer/               | <html><head><script>var a=1; stealCredentials();</script></head><body>Login to see content</body></h... |    Spam    |         0.9775        |        Spam        |\n",
            "|       https://thediasuniversity.edu/our-achievements/        | <!DOCTYPE html><html lang=en><head><title>University of Thedias</title></head><body>Our Achievements... | Legitimate |         0.0284        |     Legitimate     |\n",
            "|          http://paypal-secure-account.blogspot.com/          | <html><head><title>Your Account Has Been Suspended</title></head><body>Please log in to verify your ... |    Spam    |         1.0000        |        Spam        |\n",
            "|               http://secure-login-paypal.com/                | <html><head><title>Secure Login</title></head><body>Please enter your PayPal credentials</body></htm... |    Spam    |         0.9993        |        Spam        |\n",
            "|               http://amazon-prime-offers.com/                | <html><head><title>Amazon Prime Offers</title></head><body>Click here to claim your Amazon Prime off... |    Spam    |         0.9990        |        Spam        |\n",
            "|           https://secure-bankofamerica.com/login/            | <html><head><title>Secure Login</title></head><body>Enter your Bank of America login details</body><... |    Spam    |         1.0000        |        Spam        |\n",
            "|               http://netflix-secure-login.com/               | <html><head><title>Netflix Login</title></head><body>Please enter your Netflix credentials</body></h... |    Spam    |         0.9996        |        Spam        |\n",
            "|                https://wellsfargo-secure.com/                | <html><head><title>Secure Login</title></head><body>Enter your Wells Fargo login details</body></htm... |    Spam    |         0.9990        |        Spam        |\n",
            "|                https://stanford.edu/research/                | <!DOCTYPE html><html lang=en><head><title>Stanford Research</title></head><body>Information about ou... | Legitimate |         0.0146        |     Legitimate     |\n",
            "|                  http://gmail-security.com/                  | <html><head><title>Gmail Security</title></head><body>Please enter your Gmail credentials</body></ht... |    Spam    |         0.9975        |        Spam        |\n",
            "|                 http://www.airbnb-login.com/                 | <html><head><title>Airbnb Login</title></head><body>Please enter your Airbnb credentials</body></htm... |    Spam    |         0.9960        |        Spam        |\n",
            "|               https://harvard.edu/admissions/                | <!DOCTYPE html><html lang=en><head><title>Harvard Admissions</title></head><body>Information about a... | Legitimate |         0.1250        |     Legitimate     |\n",
            "|                https://linkedin-security.com/                | <html><head><title>LinkedIn Security</title></head><body>Please enter your LinkedIn credentials</bod... |    Spam    |         0.9942        |        Spam        |\n",
            "|                  http://ebay-security.com/                   | <html><head><title>eBay Security</title></head><body>Please enter your eBay credentials</body></html... |    Spam    |         0.9977        |        Spam        |\n",
            "|                 https://paypal-security.com/                 | <html><head><title>PayPal Security</title></head><body>Please enter your PayPal credentials</body></... |    Spam    |         1.0000        |        Spam        |\n",
            "|              https://bankofamerica-secure.com/               | <html><head><title>Bank of America Security</title></head><body>Please enter your Bank of America cr... |    Spam    |         0.9996        |        Spam        |\n",
            "|              http://www.microsoft-security.com/              | <html><head><title>Microsoft Security</title></head><body>Please enter your Microsoft credentials</b... |    Spam    |         0.9950        |        Spam        |\n",
            "|                  https://apple-secure.com/                   | <html><head><title>Apple Security</title></head><body>Please enter your Apple credentials</body></ht... |    Spam    |         0.9990        |        Spam        |\n",
            "+--------------------------------------------------------------+---------------------------------------------------------------------------------------------------------+------------+-----------------------+--------------------+\n"
          ]
        }
      ]
    },
    {
      "cell_type": "markdown",
      "source": [
        "# Load The Saved Model and Try It"
      ],
      "metadata": {
        "id": "uVOxHN-pM6pZ"
      }
    },
    {
      "cell_type": "code",
      "source": [
        "# Load trained model\n",
        "model = keras.models.load_model('/content/drive/MyDrive/phishing_detection_model.keras')"
      ],
      "metadata": {
        "id": "yUKz622LP3IF"
      },
      "execution_count": null,
      "outputs": []
    },
    {
      "cell_type": "code",
      "source": [
        "# Define new benchmark data\n",
        "new_urls = [\n",
        "\"http://www.horadiadacompras.com/simples-login/entrar&hnuhgjb\",\n",
        "\"https://portalnews.com/account/\",\n",
        "\"http://facebook-prize.com/offer/\",\n",
        "\"https://thediasuniversity.edu/our-achievements/\",\n",
        "\"http://paypal-secure-account.blogspot.com/\",\n",
        "\"http://secure-login-paypal.com/\",\n",
        "\"http://amazon-prime-offers.com/\",\n",
        "\"https://secure-bankofamerica.com/login/\",\n",
        "\"http://netflix-secure-login.com/\",\n",
        "\"https://wellsfargo-secure.com/\",\n",
        "\"https://stanford.edu/research/\",\n",
        "\"http://gmail-security.com/\",\n",
        "\"http://www.airbnb-login.com/\",\n",
        "\"https://harvard.edu/admissions/\",\n",
        "\"https://linkedin-security.com/\",\n",
        "\"http://ebay-security.com/\",\n",
        "\"https://paypal-security.com/\",\n",
        "\"https://bankofamerica-secure.com/\",\n",
        "\"http://www.microsoft-security.com/\",\n",
        "\"https://apple-secure.com/\"\n",
        "]\n",
        "\n",
        "new_htmls = [\n",
        "\"<html><head><title>Free Offer</title></head><body>Click here to claim your free phone</body></html>\",\n",
        "\"<!DOCTYPE html><html><head><title>News Update</title></head><body>Welcome to our news portal</body></html>\",\n",
        "\"<html><head><script>var a=1; stealCredentials();</script></head><body>Login to see content</body></html>\",\n",
        "\"<!DOCTYPE html><html lang=en><head><title>University of Thedias</title></head><body>Our Achievements</body></html>\",\n",
        "\"<html><head><title>Your Account Has Been Suspended</title></head><body>Please log in to verify your account</body></html>\",\n",
        "\"<html><head><title>Secure Login</title></head><body>Please enter your PayPal credentials</body></html>\",\n",
        "\"<html><head><title>Amazon Prime Offers</title></head><body>Click here to claim your Amazon Prime offers</body></html>\",\n",
        "\"<html><head><title>Secure Login</title></head><body>Enter your Bank of America login details</body></html>\",\n",
        "\"<html><head><title>Netflix Login</title></head><body>Please enter your Netflix credentials</body></html>\",\n",
        "\"<html><head><title>Secure Login</title></head><body>Enter your Wells Fargo login details</body></html>\",\n",
        "\"<!DOCTYPE html><html lang=en><head><title>Stanford Research</title></head><body>Information about our research</body></html>\",\n",
        "\"<html><head><title>Gmail Security</title></head><body>Please enter your Gmail credentials</body></html>\",\n",
        "\"<html><head><title>Airbnb Login</title></head><body>Please enter your Airbnb credentials</body></html>\",\n",
        "\"<!DOCTYPE html><html lang=en><head><title>Harvard Admissions</title></head><body>Information about admissions</body></html>\",\n",
        "\"<html><head><title>LinkedIn Security</title></head><body>Please enter your LinkedIn credentials</body></html>\",\n",
        "\"<html><head><title>eBay Security</title></head><body>Please enter your eBay credentials</body></html>\",\n",
        "\"<html><head><title>PayPal Security</title></head><body>Please enter your PayPal credentials</body></html>\",\n",
        "\"<html><head><title>Bank of America Security</title></head><body>Please enter your Bank of America credentials</body></html>\",\n",
        "\"<html><head><title>Microsoft Security</title></head><body>Please enter your Microsoft credentials</body></html>\",\n",
        "\"<html><head><title>Apple Security</title></head><body>Please enter your Apple credentials</body></html>\"\n",
        "]\n",
        "\n",
        "actual_categories = [\"spam\", \"ham\", \"spam\", \"ham\", \"spam\", \"spam\", \"spam\", \"spam\", \"spam\", \"spam\", \"ham\", \"spam\", \"spam\", \"ham\", \"spam\", \"spam\", \"spam\", \"spam\", \"spam\", \"spam\"]\n",
        "\n",
        "# Preprocess the new benchmark data\n",
        "cleaned_urls = [preprocess_url(url) for url in new_urls]\n",
        "cleaned_htmls = [preprocess_html(html) for html in new_htmls]\n",
        "\n",
        "# Tokenize and pad\n",
        "new_url_sequences = url_tokenizer.texts_to_sequences(cleaned_urls)\n",
        "new_url_padded = pad_sequences(new_url_sequences, maxlen=max_url_length, padding='post', truncating='post')\n",
        "\n",
        "new_html_sequences = html_tokenizer.texts_to_sequences(cleaned_htmls)\n",
        "new_html_padded = pad_sequences(new_html_sequences, maxlen=max_html_length, padding='post', truncating='post')\n",
        "\n",
        "# Make predictions with the model\n",
        "new_predictions_prob = model.predict([new_url_padded, new_html_padded])\n",
        "new_predictions = (new_predictions_prob > 0.5).astype(int)\n",
        "\n",
        "# Define the table\n",
        "table = PrettyTable()\n",
        "table.field_names = [\"URL\", \"HTML Snippet\", \"Actual\", \"Predicted Probability\", \"Predicted Category\"]\n",
        "\n",
        "# Populate the table\n",
        "for i, (url, html) in enumerate(zip(new_urls, new_htmls)):\n",
        "    html_snippet = html[:100] + \"...\"  # Displaying a snippet for brevity\n",
        "    actual_category = \"Spam\" if actual_categories[i] == \"spam\" else \"Legitimate\"\n",
        "    predicted_category = \"Spam\" if new_predictions[i][0] == 1 else \"Legitimate\"\n",
        "    table.add_row([url, html_snippet, actual_category, f\"{new_predictions_prob[i][0]:.4f}\", predicted_category])\n",
        "\n",
        "# Print the table\n",
        "print(table)"
      ],
      "metadata": {
        "colab": {
          "base_uri": "https://localhost:8080/"
        },
        "id": "ryr-MW-aP3uL",
        "outputId": "a8982330-8aaf-49de-8154-ff268181a492"
      },
      "execution_count": null,
      "outputs": [
        {
          "output_type": "stream",
          "name": "stdout",
          "text": [
            "1/1 [==============================] - 0s 250ms/step\n",
            "+--------------------------------------------------------------+---------------------------------------------------------------------------------------------------------+------------+-----------------------+--------------------+\n",
            "|                             URL                              |                                               HTML Snippet                                              |   Actual   | Predicted Probability | Predicted Category |\n",
            "+--------------------------------------------------------------+---------------------------------------------------------------------------------------------------------+------------+-----------------------+--------------------+\n",
            "| http://www.horadiadacompras.com/simples-login/entrar&hnuhgjb |  <html><head><title>Free Offer</title></head><body>Click here to claim your free phone</body></html>... |    Spam    |         0.9934        |        Spam        |\n",
            "|               https://portalnews.com/account/                | <!DOCTYPE html><html><head><title>News Update</title></head><body>Welcome to our news portal</body><... | Legitimate |         0.1116        |     Legitimate     |\n",
            "|               http://facebook-prize.com/offer/               | <html><head><script>var a=1; stealCredentials();</script></head><body>Login to see content</body></h... |    Spam    |         0.9775        |        Spam        |\n",
            "|       https://thediasuniversity.edu/our-achievements/        | <!DOCTYPE html><html lang=en><head><title>University of Thedias</title></head><body>Our Achievements... | Legitimate |         0.0284        |     Legitimate     |\n",
            "|          http://paypal-secure-account.blogspot.com/          | <html><head><title>Your Account Has Been Suspended</title></head><body>Please log in to verify your ... |    Spam    |         1.0000        |        Spam        |\n",
            "|               http://secure-login-paypal.com/                | <html><head><title>Secure Login</title></head><body>Please enter your PayPal credentials</body></htm... |    Spam    |         0.9993        |        Spam        |\n",
            "|               http://amazon-prime-offers.com/                | <html><head><title>Amazon Prime Offers</title></head><body>Click here to claim your Amazon Prime off... |    Spam    |         0.9990        |        Spam        |\n",
            "|           https://secure-bankofamerica.com/login/            | <html><head><title>Secure Login</title></head><body>Enter your Bank of America login details</body><... |    Spam    |         1.0000        |        Spam        |\n",
            "|               http://netflix-secure-login.com/               | <html><head><title>Netflix Login</title></head><body>Please enter your Netflix credentials</body></h... |    Spam    |         0.9996        |        Spam        |\n",
            "|                https://wellsfargo-secure.com/                | <html><head><title>Secure Login</title></head><body>Enter your Wells Fargo login details</body></htm... |    Spam    |         0.9990        |        Spam        |\n",
            "|                https://stanford.edu/research/                | <!DOCTYPE html><html lang=en><head><title>Stanford Research</title></head><body>Information about ou... | Legitimate |         0.0146        |     Legitimate     |\n",
            "|                  http://gmail-security.com/                  | <html><head><title>Gmail Security</title></head><body>Please enter your Gmail credentials</body></ht... |    Spam    |         0.9975        |        Spam        |\n",
            "|                 http://www.airbnb-login.com/                 | <html><head><title>Airbnb Login</title></head><body>Please enter your Airbnb credentials</body></htm... |    Spam    |         0.9960        |        Spam        |\n",
            "|               https://harvard.edu/admissions/                | <!DOCTYPE html><html lang=en><head><title>Harvard Admissions</title></head><body>Information about a... | Legitimate |         0.1250        |     Legitimate     |\n",
            "|                https://linkedin-security.com/                | <html><head><title>LinkedIn Security</title></head><body>Please enter your LinkedIn credentials</bod... |    Spam    |         0.9942        |        Spam        |\n",
            "|                  http://ebay-security.com/                   | <html><head><title>eBay Security</title></head><body>Please enter your eBay credentials</body></html... |    Spam    |         0.9977        |        Spam        |\n",
            "|                 https://paypal-security.com/                 | <html><head><title>PayPal Security</title></head><body>Please enter your PayPal credentials</body></... |    Spam    |         1.0000        |        Spam        |\n",
            "|              https://bankofamerica-secure.com/               | <html><head><title>Bank of America Security</title></head><body>Please enter your Bank of America cr... |    Spam    |         0.9996        |        Spam        |\n",
            "|              http://www.microsoft-security.com/              | <html><head><title>Microsoft Security</title></head><body>Please enter your Microsoft credentials</b... |    Spam    |         0.9950        |        Spam        |\n",
            "|                  https://apple-secure.com/                   | <html><head><title>Apple Security</title></head><body>Please enter your Apple credentials</body></ht... |    Spam    |         0.9990        |        Spam        |\n",
            "+--------------------------------------------------------------+---------------------------------------------------------------------------------------------------------+------------+-----------------------+--------------------+\n"
          ]
        }
      ]
    },
    {
      "cell_type": "markdown",
      "source": [
        "------------------------------------------------------------------------------"
      ],
      "metadata": {
        "id": "nNax5CFYYAI3"
      }
    },
    {
      "cell_type": "markdown",
      "source": [
        "# **BELOW ARE EXPERIMENTS**"
      ],
      "metadata": {
        "id": "cpJekccjYC8D"
      }
    },
    {
      "cell_type": "markdown",
      "source": [
        "# Experiment Model"
      ],
      "metadata": {
        "id": "83B4_itTu7ZQ"
      }
    },
    {
      "cell_type": "code",
      "source": [
        "def experiment_model():\n",
        "    embedding_dim = 128  # Embedding dimension for both URL and HTML\n",
        "\n",
        "    # URL Embedding Path\n",
        "    url_input = layers.Input(shape=(max_url_length,), name='url_input')\n",
        "    url_embedding = layers.Embedding(input_dim=min(max_words, len(url_tokenizer.word_index) + 1),\n",
        "                                     output_dim=embedding_dim, input_length=max_url_length, name='url_embedding')(url_input)\n",
        "    url_conv = layers.Conv1D(filters=64, kernel_size=8, activation='relu')(url_embedding)\n",
        "    url_pool = layers.MaxPooling1D(pool_size=2)(url_conv)\n",
        "    url_flat = layers.Flatten()(url_pool)\n",
        "\n",
        "    # HTML Embedding Path\n",
        "    html_input = layers.Input(shape=(max_html_length,), name='html_input')\n",
        "    html_embedding = layers.Embedding(input_dim=min(max_words, len(html_tokenizer.word_index) + 1),\n",
        "                                      output_dim=embedding_dim, input_length=max_html_length, name='html_embedding')(html_input)\n",
        "    html_conv = layers.Conv1D(filters=64, kernel_size=8, activation='relu')(html_embedding)\n",
        "    html_pool = layers.MaxPooling1D(pool_size=2)(html_conv)\n",
        "    html_flat = layers.Flatten()(html_pool)\n",
        "\n",
        "    # Concatenate Flat Outputs\n",
        "    concatenated = layers.Concatenate(name='concatenate_layer')([url_flat, html_flat])\n",
        "\n",
        "    # Fully Connected Layers\n",
        "    dense1 = layers.Dense(128, activation='relu', name='dense1')(concatenated)\n",
        "    dense2 = layers.Dense(64, activation='relu', name='dense2')(dense1)\n",
        "\n",
        "    # Output Layer\n",
        "    output = layers.Dense(1, activation='sigmoid', name='output_layer')(dense2)\n",
        "\n",
        "    # Define the model using 'experiment_model' as the variable\n",
        "    experiment_model = models.Model(inputs=[url_input, html_input], outputs=output)\n",
        "\n",
        "    # Use 'experiment_model' for compilation\n",
        "    experiment_model.compile(optimizer=optimizers.Adam(learning_rate=0.0005),\n",
        "                             loss='binary_crossentropy',\n",
        "                             metrics=['accuracy', Precision(), Recall()])\n",
        "\n",
        "    return experiment_model"
      ],
      "metadata": {
        "id": "otsOFu4mu9W4"
      },
      "execution_count": null,
      "outputs": []
    },
    {
      "cell_type": "code",
      "source": [
        "# Create the adjusted model\n",
        "experiment_model_instance = experiment_model()"
      ],
      "metadata": {
        "id": "IiEtMJWDu_YX"
      },
      "execution_count": null,
      "outputs": []
    },
    {
      "cell_type": "code",
      "source": [
        "# Model Summary\n",
        "experiment_model_instance.summary()"
      ],
      "metadata": {
        "colab": {
          "base_uri": "https://localhost:8080/"
        },
        "id": "xodb5WUIvBdO",
        "outputId": "19458a88-880b-4f58-b2f7-cd12ee3b1211"
      },
      "execution_count": null,
      "outputs": [
        {
          "output_type": "stream",
          "name": "stdout",
          "text": [
            "Model: \"model_5\"\n",
            "__________________________________________________________________________________________________\n",
            " Layer (type)                Output Shape                 Param #   Connected to                  \n",
            "==================================================================================================\n",
            " url_input (InputLayer)      [(None, 180)]                0         []                            \n",
            "                                                                                                  \n",
            " html_input (InputLayer)     [(None, 2000)]               0         []                            \n",
            "                                                                                                  \n",
            " url_embedding (Embedding)   (None, 180, 128)             4864      ['url_input[0][0]']           \n",
            "                                                                                                  \n",
            " html_embedding (Embedding)  (None, 2000, 128)            1280000   ['html_input[0][0]']          \n",
            "                                                                                                  \n",
            " conv1d_16 (Conv1D)          (None, 173, 64)              65600     ['url_embedding[0][0]']       \n",
            "                                                                                                  \n",
            " conv1d_17 (Conv1D)          (None, 1993, 64)             65600     ['html_embedding[0][0]']      \n",
            "                                                                                                  \n",
            " max_pooling1d_10 (MaxPooli  (None, 86, 64)               0         ['conv1d_16[0][0]']           \n",
            " ng1D)                                                                                            \n",
            "                                                                                                  \n",
            " max_pooling1d_11 (MaxPooli  (None, 996, 64)              0         ['conv1d_17[0][0]']           \n",
            " ng1D)                                                                                            \n",
            "                                                                                                  \n",
            " flatten_10 (Flatten)        (None, 5504)                 0         ['max_pooling1d_10[0][0]']    \n",
            "                                                                                                  \n",
            " flatten_11 (Flatten)        (None, 63744)                0         ['max_pooling1d_11[0][0]']    \n",
            "                                                                                                  \n",
            " concatenate_layer (Concate  (None, 69248)                0         ['flatten_10[0][0]',          \n",
            " nate)                                                               'flatten_11[0][0]']          \n",
            "                                                                                                  \n",
            " dense1 (Dense)              (None, 128)                  8863872   ['concatenate_layer[0][0]']   \n",
            "                                                                                                  \n",
            " dense2 (Dense)              (None, 64)                   8256      ['dense1[0][0]']              \n",
            "                                                                                                  \n",
            " output_layer (Dense)        (None, 1)                    65        ['dense2[0][0]']              \n",
            "                                                                                                  \n",
            "==================================================================================================\n",
            "Total params: 10288257 (39.25 MB)\n",
            "Trainable params: 10288257 (39.25 MB)\n",
            "Non-trainable params: 0 (0.00 Byte)\n",
            "__________________________________________________________________________________________________\n"
          ]
        }
      ]
    },
    {
      "cell_type": "markdown",
      "source": [
        "# Experiment Model Training"
      ],
      "metadata": {
        "id": "bvVpmk4KvEpT"
      }
    },
    {
      "cell_type": "code",
      "source": [
        "# Early stopping to prevent overfitting\n",
        "early_stopping = EarlyStopping(monitor='val_loss', patience=3, restore_best_weights=True)"
      ],
      "metadata": {
        "id": "OLjjmUG1vD3G"
      },
      "execution_count": null,
      "outputs": []
    },
    {
      "cell_type": "code",
      "source": [
        "# Model Training\n",
        "history = experiment_model_instance.fit(\n",
        "    [url_X_train, html_X_train],  # URL and HTML training data\n",
        "    url_y_train,  # Assuming the same target variable for both URL and HTML\n",
        "    validation_data=([url_X_test, html_X_test], url_y_test),  # URL and HTML validation data\n",
        "    epochs=20,  # Number of epochs to train for\n",
        "    batch_size=16,  # Batch size for training\n",
        "    callbacks=[early_stopping]  # Early stopping callback\n",
        ")"
      ],
      "metadata": {
        "colab": {
          "base_uri": "https://localhost:8080/"
        },
        "id": "Y0scVCHrx8g6",
        "outputId": "b03044fa-011d-44ce-b69e-cae020af31c9"
      },
      "execution_count": null,
      "outputs": [
        {
          "output_type": "stream",
          "name": "stdout",
          "text": [
            "Epoch 1/20\n",
            "2269/2269 [==============================] - 141s 61ms/step - loss: 0.1320 - accuracy: 0.9506 - precision_2: 0.9529 - recall_2: 0.9482 - val_loss: 0.0795 - val_accuracy: 0.9748 - val_precision_2: 0.9703 - val_recall_2: 0.9792\n",
            "Epoch 2/20\n",
            "2269/2269 [==============================] - 53s 23ms/step - loss: 0.0370 - accuracy: 0.9878 - precision_2: 0.9884 - recall_2: 0.9872 - val_loss: 0.0905 - val_accuracy: 0.9706 - val_precision_2: 0.9563 - val_recall_2: 0.9858\n",
            "Epoch 3/20\n",
            "2269/2269 [==============================] - 42s 19ms/step - loss: 0.0194 - accuracy: 0.9933 - precision_2: 0.9931 - recall_2: 0.9936 - val_loss: 0.1003 - val_accuracy: 0.9752 - val_precision_2: 0.9822 - val_recall_2: 0.9676\n",
            "Epoch 4/20\n",
            "2269/2269 [==============================] - 36s 16ms/step - loss: 0.0110 - accuracy: 0.9965 - precision_2: 0.9964 - recall_2: 0.9966 - val_loss: 0.1051 - val_accuracy: 0.9759 - val_precision_2: 0.9763 - val_recall_2: 0.9752\n"
          ]
        }
      ]
    },
    {
      "cell_type": "markdown",
      "source": [
        "# Experiment Model Evaluation"
      ],
      "metadata": {
        "id": "nuZYr0yZvR7Y"
      }
    },
    {
      "cell_type": "code",
      "execution_count": null,
      "metadata": {
        "colab": {
          "base_uri": "https://localhost:8080/"
        },
        "outputId": "6dfd0e04-1e03-48b2-bff2-c6a659cc2aab",
        "id": "SBK1dHu4vRBj"
      },
      "outputs": [
        {
          "output_type": "stream",
          "name": "stdout",
          "text": [
            "284/284 [==============================] - 2s 6ms/step\n"
          ]
        }
      ],
      "source": [
        "# Model Evaluation\n",
        "y_pred_prob = experiment_model_instance.predict([url_X_test, html_X_test])\n",
        "y_pred = (y_pred_prob > 0.5).astype(int)"
      ]
    },
    {
      "cell_type": "markdown",
      "source": [
        "## Calculating Model Performance Based on Metrics"
      ],
      "metadata": {
        "id": "LeFgo_1IvRBk"
      }
    },
    {
      "cell_type": "code",
      "execution_count": null,
      "metadata": {
        "id": "YAHlZuXwvRBk"
      },
      "outputs": [],
      "source": [
        "# Calculating metrics\n",
        "accuracy = accuracy_score(url_y_test, y_pred)\n",
        "precision = precision_score(url_y_test, y_pred)\n",
        "recall = recall_score(url_y_test, y_pred)\n",
        "f1 = f1_score(url_y_test, y_pred)"
      ]
    },
    {
      "cell_type": "markdown",
      "source": [
        "## Print Evaluation Metrics"
      ],
      "metadata": {
        "id": "IBVnx73-vRBl"
      }
    },
    {
      "cell_type": "code",
      "execution_count": null,
      "metadata": {
        "colab": {
          "base_uri": "https://localhost:8080/"
        },
        "outputId": "dc7983fa-1f0d-41be-b6d1-a62f490a6922",
        "id": "avAMJjQLvRBl"
      },
      "outputs": [
        {
          "output_type": "stream",
          "name": "stdout",
          "text": [
            "Accuracy: 0.9748\n",
            "Precision: 0.9703\n",
            "Recall: 0.9792\n",
            "F1 Score: 0.9747\n"
          ]
        }
      ],
      "source": [
        "# Printing evaluation metrics\n",
        "print(f\"Accuracy: {accuracy:.4f}\")\n",
        "print(f\"Precision: {precision:.4f}\")\n",
        "print(f\"Recall: {recall:.4f}\")\n",
        "print(f\"F1 Score: {f1:.4f}\")"
      ]
    },
    {
      "cell_type": "markdown",
      "metadata": {
        "id": "ZTmcClBdCrcI"
      },
      "source": [
        "#Hyperparameter Tuning"
      ]
    },
    {
      "cell_type": "code",
      "execution_count": null,
      "metadata": {
        "id": "6u3YHkP4G6sk"
      },
      "outputs": [],
      "source": [
        "class HyperModel(HyperModel):\n",
        "    def __init__(self, max_url_length, max_html_length, url_vocab_size, html_vocab_size):\n",
        "        self.max_url_length = max_url_length\n",
        "        self.max_html_length = max_html_length\n",
        "        self.url_vocab_size = url_vocab_size\n",
        "        self.html_vocab_size = html_vocab_size\n",
        "\n",
        "    def build(self, hp):\n",
        "        embedding_dim = hp.Choice('embedding_dim', values=[16, 32, 64])\n",
        "\n",
        "        url_input = layers.Input(shape=(self.max_url_length,), name='url_input')\n",
        "        url_embedding = layers.Embedding(input_dim=self.url_vocab_size, output_dim=embedding_dim)(url_input)\n",
        "        url_conv = layers.Conv1D(filters=hp.Int('url_filters', min_value=32, max_value=128, step=32),\n",
        "                                 kernel_size=hp.Choice('url_kernel_size', values=[3, 5, 7]),\n",
        "                                 activation='relu')(url_embedding)\n",
        "        url_pool = layers.MaxPooling1D(pool_size=2)(url_conv)\n",
        "        url_flat = layers.Flatten()(url_pool)\n",
        "\n",
        "        html_input = layers.Input(shape=(self.max_html_length,), name='html_input')\n",
        "        html_embedding = layers.Embedding(input_dim=self.html_vocab_size, output_dim=embedding_dim)(html_input)\n",
        "        html_conv = layers.Conv1D(filters=hp.Int('html_filters', min_value=32, max_value=128, step=32),\n",
        "                                  kernel_size=hp.Choice('html_kernel_size', values=[3, 5, 7]),\n",
        "                                  activation='relu')(html_embedding)\n",
        "        html_pool = layers.MaxPooling1D(pool_size=2)(html_conv)\n",
        "        html_flat = layers.Flatten()(html_pool)\n",
        "\n",
        "        concatenated = layers.Concatenate()([url_flat, html_flat])\n",
        "        dense1 = layers.Dense(units=hp.Int('dense_units', min_value=64, max_value=256, step=64), activation='relu')(concatenated)\n",
        "        output = layers.Dense(1, activation='sigmoid')(dense1)\n",
        "\n",
        "        model = models.Model(inputs=[url_input, html_input], outputs=output)\n",
        "\n",
        "        hp_learning_rate = hp.Choice('learning_rate', values=[1e-2, 1e-3, 1e-4])\n",
        "\n",
        "        model.compile(optimizer=optimizers.Adam(learning_rate=hp_learning_rate),\n",
        "                      loss='binary_crossentropy',\n",
        "                      metrics=['accuracy', metrics.Precision(), metrics.Recall()])\n",
        "\n",
        "        return model"
      ]
    },
    {
      "cell_type": "code",
      "execution_count": null,
      "metadata": {
        "id": "-LL9CeOIHUFL"
      },
      "outputs": [],
      "source": [
        "# Define the hypermodel\n",
        "hypermodel = HyperModel(max_url_length=max_url_length,\n",
        "                                max_html_length=max_html_length,\n",
        "                                url_vocab_size=min(max_words, len(url_tokenizer.word_index) + 1),\n",
        "                                html_vocab_size=min(max_words, len(html_tokenizer.word_index) + 1))"
      ]
    },
    {
      "cell_type": "code",
      "execution_count": null,
      "metadata": {
        "id": "kIzpsW7lHV8E"
      },
      "outputs": [],
      "source": [
        "# Initialize the tuner\n",
        "tuner = RandomSearch(\n",
        "    hypermodel,\n",
        "    objective='val_accuracy',\n",
        "    max_trials=10,\n",
        "    executions_per_trial=1,\n",
        "    directory='hyperparameter_tuning',\n",
        "    project_name='Model_Tuning'\n",
        ")"
      ]
    },
    {
      "cell_type": "code",
      "execution_count": null,
      "metadata": {
        "id": "C2vnE1H9HXoY"
      },
      "outputs": [],
      "source": [
        "# Early stopping callback\n",
        "early_stopping = EarlyStopping(monitor='val_loss', patience=3, restore_best_weights=True)"
      ]
    },
    {
      "cell_type": "code",
      "execution_count": null,
      "metadata": {
        "colab": {
          "base_uri": "https://localhost:8080/"
        },
        "id": "leFUNmMAHZF8",
        "outputId": "a9000b1e-83d0-4367-9611-fdbdfd5ae536"
      },
      "outputs": [
        {
          "name": "stdout",
          "output_type": "stream",
          "text": [
            "Trial 3 Complete [00h 13m 33s]\n",
            "val_accuracy: 0.971790611743927\n",
            "\n",
            "Best val_accuracy So Far: 0.971790611743927\n",
            "Total elapsed time: 00h 20m 54s\n",
            "\n",
            "Search: Running Trial #4\n",
            "\n",
            "Value             |Best Value So Far |Hyperparameter\n",
            "16                |32                |embedding_dim\n",
            "128               |128               |url_filters\n",
            "3                 |3                 |url_kernel_size\n",
            "64                |64                |html_filters\n",
            "7                 |7                 |html_kernel_size\n",
            "192               |128               |dense_units\n",
            "0.0001            |0.01              |learning_rate\n",
            "\n",
            "Epoch 1/20\n",
            " 868/1135 [=====================>........] - ETA: 1:38 - loss: 0.2967 - accuracy: 0.8767 - precision: 0.8759 - recall: 0.8768"
          ]
        }
      ],
      "source": [
        "# Start hyperparameter search\n",
        "tuner.search([url_X_train, html_X_train], url_y_train,\n",
        "             validation_data=([url_X_test, html_X_test], url_y_test),\n",
        "             epochs=20, batch_size=32, callbacks=[early_stopping])\n",
        "\n",
        "# Get the best hyperparameters\n",
        "best_hps = tuner.get_best_hyperparameters(num_trials=1)[0]"
      ]
    },
    {
      "cell_type": "code",
      "execution_count": null,
      "metadata": {
        "id": "Afb4IrzgHcFJ"
      },
      "outputs": [],
      "source": [
        "# Build the model with the best hyperparameters and train it on the data\n",
        "best_model = tuner.hypermodel.build(best_hps)\n",
        "history = best_model.fit([url_X_train, html_X_train], url_y_train,\n",
        "                         validation_data=([url_X_test, html_X_test], url_y_test),\n",
        "                         epochs=20, batch_size=32, callbacks=[early_stopping])"
      ]
    },
    {
      "cell_type": "markdown",
      "metadata": {
        "id": "adXX7N2xlDSP"
      },
      "source": [
        "# Hyperparameter Tuning V2"
      ]
    },
    {
      "cell_type": "code",
      "execution_count": null,
      "metadata": {
        "id": "xiwdxX_b7z7S"
      },
      "outputs": [],
      "source": [
        "import tensorflow as tf\n",
        "from tensorflow import keras\n",
        "from tensorflow.keras import layers, models, optimizers, metrics\n",
        "from kerastuner.tuners import Hyperband\n",
        "from tensorflow.keras.callbacks import EarlyStopping\n",
        "import kerastuner as kt"
      ]
    },
    {
      "cell_type": "code",
      "execution_count": null,
      "metadata": {
        "id": "z9gCQo017kyl"
      },
      "outputs": [],
      "source": [
        "class HyperModel(kt.HyperModel):\n",
        "    def __init__(self, max_url_length, max_html_length, url_vocab_size, html_vocab_size):\n",
        "        self.max_url_length = max_url_length\n",
        "        self.max_html_length = max_html_length\n",
        "        self.url_vocab_size = url_vocab_size\n",
        "        self.html_vocab_size = html_vocab_size\n",
        "\n",
        "    def build(self, hp):\n",
        "        # Hyperparameters\n",
        "        embedding_dim = hp.Choice('embedding_dim', values=[16, 32, 64])\n",
        "        url_filters = hp.Int('url_filters', min_value=32, max_value=128, step=32)\n",
        "        html_filters = hp.Int('html_filters', min_value=32, max_value=128, step=32)\n",
        "        kernel_size = hp.Choice('kernel_size', values=[3, 5, 7])\n",
        "        dense_units = hp.Int('dense_units', min_value=64, max_value=256, step=64)\n",
        "        learning_rate = hp.Choice('learning_rate', values=[1e-2, 1e-3, 1e-4])\n",
        "\n",
        "        # Model architecture\n",
        "        url_input = layers.Input(shape=(self.max_url_length,), name='url_input')\n",
        "        url_embedding = layers.Embedding(input_dim=self.url_vocab_size, output_dim=embedding_dim, name='url_embedding')(url_input)\n",
        "        url_conv = layers.Conv1D(filters=url_filters, kernel_size=kernel_size, activation='relu')(url_embedding)\n",
        "        url_pool = layers.MaxPooling1D(pool_size=2)(url_conv)\n",
        "        url_flat = layers.Flatten()(url_pool)\n",
        "\n",
        "        html_input = layers.Input(shape=(self.max_html_length,), name='html_input')\n",
        "        html_embedding = layers.Embedding(input_dim=self.html_vocab_size, output_dim=embedding_dim, name='html_embedding')(html_input)\n",
        "        html_conv = layers.Conv1D(filters=html_filters, kernel_size=kernel_size, activation='relu')(html_embedding)\n",
        "        html_pool = layers.MaxPooling1D(pool_size=2)(html_conv)\n",
        "        html_flat = layers.Flatten()(html_pool)\n",
        "\n",
        "        concatenated = layers.Concatenate(name='concatenate_layer')([url_flat, html_flat])\n",
        "        dense1 = layers.Dense(dense_units, activation='relu', name='dense1')(concatenated)\n",
        "        output = layers.Dense(1, activation='sigmoid', name='output_layer')(dense1)\n",
        "\n",
        "        model = models.Model(inputs=[url_input, html_input], outputs=output)\n",
        "        model.compile(optimizer=optimizers.Adam(learning_rate=learning_rate), loss='binary_crossentropy',\n",
        "                      metrics=['accuracy', metrics.Precision(), metrics.Recall()])\n",
        "\n",
        "        return model"
      ]
    },
    {
      "cell_type": "code",
      "execution_count": null,
      "metadata": {
        "id": "yRte-h8x7nNO"
      },
      "outputs": [],
      "source": [
        "# Initialize Hyperband tuner\n",
        "tuner = Hyperband(\n",
        "    HyperModel(max_url_length=max_url_length, max_html_length=max_html_length,\n",
        "                       url_vocab_size=min(max_words, len(url_tokenizer.word_index) + 1),\n",
        "                       html_vocab_size=min(max_words, len(html_tokenizer.word_index) + 1)),\n",
        "    objective='val_accuracy',\n",
        "    max_epochs=10,\n",
        "    hyperband_iterations=2,\n",
        "    directory='hyperband_tuning',\n",
        "    project_name='hypermodel_tuning'\n",
        ")"
      ]
    },
    {
      "cell_type": "code",
      "execution_count": null,
      "metadata": {
        "id": "1rvH8eDf7o0-"
      },
      "outputs": [],
      "source": [
        "# Early stopping callback\n",
        "early_stopping = EarlyStopping(monitor='val_loss', patience=3, restore_best_weights=True)"
      ]
    },
    {
      "cell_type": "code",
      "execution_count": null,
      "metadata": {
        "colab": {
          "background_save": true,
          "base_uri": "https://localhost:8080/"
        },
        "id": "AvDLLekI7qcS",
        "outputId": "8db7e5ad-5f2a-42d6-b307-aa2abbbb6905"
      },
      "outputs": [
        {
          "name": "stdout",
          "output_type": "stream",
          "text": [
            "Trial 24 Complete [00h 44m 29s]\n",
            "val_accuracy: 0.9738842844963074\n",
            "\n",
            "Best val_accuracy So Far: 0.9777410626411438\n",
            "Total elapsed time: 08h 38m 00s\n",
            "\n",
            "Search: Running Trial #25\n",
            "\n",
            "Value             |Best Value So Far |Hyperparameter\n",
            "32                |64                |embedding_dim\n",
            "32                |128               |url_filters\n",
            "96                |64                |html_filters\n",
            "3                 |3                 |kernel_size\n",
            "192               |128               |dense_units\n",
            "0.001             |0.001             |learning_rate\n",
            "10                |10                |tuner/epochs\n",
            "4                 |4                 |tuner/initial_epoch\n",
            "1                 |2                 |tuner/bracket\n",
            "1                 |2                 |tuner/round\n",
            "0023              |0012              |tuner/trial_id\n",
            "\n",
            "Epoch 5/10\n",
            "1135/1135 [==============================] - 612s 538ms/step - loss: 0.0146 - accuracy: 0.9952 - precision: 0.9945 - recall: 0.9959 - val_loss: 0.1678 - val_accuracy: 0.9652 - val_precision: 0.9487 - val_recall: 0.9832\n",
            "Epoch 6/10\n",
            "1135/1135 [==============================] - 599s 527ms/step - loss: 0.0113 - accuracy: 0.9961 - precision: 0.9954 - recall: 0.9968 - val_loss: 0.1288 - val_accuracy: 0.9725 - val_precision: 0.9715 - val_recall: 0.9732\n",
            "Epoch 7/10\n",
            "1135/1135 [==============================] - 655s 577ms/step - loss: 0.0077 - accuracy: 0.9973 - precision: 0.9972 - recall: 0.9975 - val_loss: 0.1674 - val_accuracy: 0.9722 - val_precision: 0.9767 - val_recall: 0.9672\n",
            "Epoch 8/10\n",
            "1135/1135 [==============================] - 660s 582ms/step - loss: 0.0079 - accuracy: 0.9974 - precision: 0.9971 - recall: 0.9977 - val_loss: 0.1747 - val_accuracy: 0.9748 - val_precision: 0.9798 - val_recall: 0.9692\n",
            "Epoch 9/10\n",
            "1056/1135 [==========================>...] - ETA: 44s - loss: 0.0094 - accuracy: 0.9972 - precision: 0.9972 - recall: 0.9972"
          ]
        }
      ],
      "source": [
        "# Start hyperparameter search\n",
        "tuner.search([url_X_train, html_X_train], url_y_train,\n",
        "             validation_data=([url_X_test, html_X_test], url_y_test),\n",
        "             epochs=10,  # Reduced epochs for faster iteration\n",
        "             callbacks=[early_stopping])"
      ]
    },
    {
      "cell_type": "code",
      "execution_count": null,
      "metadata": {
        "id": "PUXHvVvc7sJE"
      },
      "outputs": [],
      "source": [
        "# Retrieve the best model\n",
        "best_model = tuner.get_best_models(num_models=1)[0]"
      ]
    },
    {
      "cell_type": "code",
      "execution_count": null,
      "metadata": {
        "id": "YDlNCsOi7tfc"
      },
      "outputs": [],
      "source": [
        "# Summary of the best model\n",
        "best_model.summary()"
      ]
    }
  ],
  "metadata": {
    "accelerator": "GPU",
    "colab": {
      "provenance": [],
      "gpuType": "T4"
    },
    "kaggle": {
      "accelerator": "none",
      "dataSources": [
        {
          "datasetId": 2446358,
          "sourceId": 4141865,
          "sourceType": "datasetVersion"
        }
      ],
      "dockerImageVersionId": 30646,
      "isGpuEnabled": false,
      "isInternetEnabled": false,
      "language": "python",
      "sourceType": "notebook"
    },
    "kernelspec": {
      "display_name": "Python 3",
      "name": "python3"
    },
    "language_info": {
      "codemirror_mode": {
        "name": "ipython",
        "version": 3
      },
      "file_extension": ".py",
      "mimetype": "text/x-python",
      "name": "python",
      "nbconvert_exporter": "python",
      "pygments_lexer": "ipython3",
      "version": "3.10.13"
    }
  },
  "nbformat": 4,
  "nbformat_minor": 0
}